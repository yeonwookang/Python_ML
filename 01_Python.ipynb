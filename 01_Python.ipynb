{
 "cells": [
  {
   "cell_type": "code",
   "execution_count": null,
   "metadata": {},
   "outputs": [],
   "source": [
    "# Python 언어 기초\n",
    "# 개발환경 설정\n",
    "# Data, Data Analysis, Data Mining\n",
    "# Big Data(3V)\n",
    "# Big Data 분석 방법 : 1. EDA (탐색적 데이터 분석)\n",
    "#                      2. Machine Learning\n",
    "#                      3. Deep Learning\n",
    "# Why Python?"
   ]
  }
 ],
 "metadata": {
  "kernelspec": {
   "display_name": "Python [conda env:tensorflow_env]",
   "language": "python",
   "name": "conda-env-tensorflow_env-py"
  },
  "language_info": {
   "codemirror_mode": {
    "name": "ipython",
    "version": 3
   },
   "file_extension": ".py",
   "mimetype": "text/x-python",
   "name": "python",
   "nbconvert_exporter": "python",
   "pygments_lexer": "ipython3",
   "version": "3.5.6"
  }
 },
 "nbformat": 4,
 "nbformat_minor": 2
}
