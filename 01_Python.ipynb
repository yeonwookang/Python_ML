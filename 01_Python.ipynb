{
 "cells": [
  {
   "cell_type": "code",
   "execution_count": 6,
   "metadata": {},
   "outputs": [],
   "source": [
    "# Python 언어 기초"
   ]
  },
  {
   "cell_type": "code",
   "execution_count": 8,
   "metadata": {},
   "outputs": [
    {
     "data": {
      "text/plain": [
       "0.75"
      ]
     },
     "execution_count": 8,
     "metadata": {},
     "output_type": "execute_result"
    }
   ],
   "source": [
    "# Python Data Type\n",
    "\n",
    "#  숫자 (Number)\n",
    "a = 123 # 정수\n",
    "b = 3.14  # 실수\n",
    "c = 3.14E10 # 지수\n",
    "d = 1 + 2j # 복소수\n",
    "e = 0o34 # 8진수\n",
    "f = 0xAB # 16진수\n",
    "\n",
    "div = 3 / 4 # 다른 언어와 결과가 다름\n",
    "div"
   ]
  },
  {
   "cell_type": "code",
   "execution_count": 12,
   "metadata": {},
   "outputs": [
    {
     "data": {
      "text/plain": [
       "27"
      ]
     },
     "execution_count": 12,
     "metadata": {},
     "output_type": "execute_result"
    }
   ],
   "source": [
    "result = 3 ** 3 # 3의 3승\n",
    "result "
   ]
  },
  {
   "cell_type": "code",
   "execution_count": 13,
   "metadata": {},
   "outputs": [
    {
     "data": {
      "text/plain": [
       "1"
      ]
     },
     "execution_count": 13,
     "metadata": {},
     "output_type": "execute_result"
    }
   ],
   "source": [
    "result = 10 % 3 # 나눗셈 후 나머지\n",
    "result"
   ]
  },
  {
   "cell_type": "code",
   "execution_count": 14,
   "metadata": {},
   "outputs": [
    {
     "data": {
      "text/plain": [
       "3"
      ]
     },
     "execution_count": 14,
     "metadata": {},
     "output_type": "execute_result"
    }
   ],
   "source": [
    "result = 10 // 3 # 나눗셈 후 몫\n",
    "result"
   ]
  },
  {
   "cell_type": "code",
   "execution_count": 31,
   "metadata": {},
   "outputs": [
    {
     "name": "stdout",
     "output_type": "stream",
     "text": [
      "Hello\n",
      "World\n",
      "이것은\n",
      "소리없는\n",
      "아우성\n",
      "문자열\n",
      "줄바꿈 테스트\n"
     ]
    }
   ],
   "source": [
    "# 문자열 (String)\n",
    "a = \"Hello World\"; b = \"Hi\" # 한 줄에 여러 문장을 작성하는 경우 세미콜론 필요\n",
    "b = 'Hello World' # 작은 따옴표 사용 가능 \n",
    "c = \"Hello\\nWorld\" # 줄바꿈문자\n",
    "d = \"\"\"이것은\n",
    "소리없는\n",
    "아우성\"\"\"\n",
    "e = '''문자열\n",
    "줄바꿈 테스트'''\n",
    "print(c)\n",
    "print(d)\n",
    "print(e)"
   ]
  },
  {
   "cell_type": "code",
   "execution_count": 44,
   "metadata": {},
   "outputs": [
    {
     "name": "stdout",
     "output_type": "stream",
     "text": [
      "HelloWorld\n",
      "pythonpythonpython\n",
      "k\n",
      ".\n",
      "e\n",
      "Talk\n",
      "Talk is ch\n"
     ]
    }
   ],
   "source": [
    "# 문자열 연산\n",
    "first = \"Hello\"\n",
    "last = \"World\"\n",
    "\n",
    "print(first + last) # 문장 이어붙이기\n",
    "\n",
    "text = 'python'\n",
    "print (text * 3) # 문장을 3회 반복 출력\n",
    "\n",
    "# 문자열 인덱싱\n",
    "a = \"Talk is cheap. Show me the Code.\"\n",
    "print(a[3]) # 배열의 4번째 문자 출력\n",
    "print(a[-1]) # 마이너스를 입력하는 경우 뒤에서부터... 따라서 뒤에서부터 첫 번째 문자\n",
    "print(a[-2])\n",
    "\n",
    "# Talk (Slicing)\n",
    "print (a[0:4])\n",
    "print (a[:10]) # 처음부터 Index 9까지"
   ]
  },
  {
   "cell_type": "code",
   "execution_count": 75,
   "metadata": {},
   "outputs": [
    {
     "name": "stdout",
     "output_type": "stream",
     "text": [
      "나는 사과를 10개 가지고 있어요!\n",
      "나는 사과를 다섯개 가지고 있어요!\n",
      "나는 사과를 3개, 바나나를 5개 가지고 있어!\n",
      "에러율은 90%입니다.\n",
      "나는 사과를         10개 가지고 있어요!\n",
      "    3.1416\n",
      "사과를 3개, 바나나를 4개\n",
      "3.1416\n"
     ]
    }
   ],
   "source": [
    "# 문자열 Formatting\n",
    "count = 10\n",
    "a = \"나는 사과를 %d개 가지고 있어요!\" %count\n",
    "b = \"나는 사과를 %s개 가지고 있어요!\" %'다섯'\n",
    "c = \"나는 사과를 %d개, 바나나를 %d개 가지고 있어!\" %(3, 5)\n",
    "d = \"에러율은 %d%%입니다.\" %(90)\n",
    "f = \"나는 사과를 %10d개 가지고 있어요!\" %count\n",
    "e = \"%10.4f\" %3.1415926535 # 정수 10자리, 소수점 이하 4자리 (5자리에서 반올림)\n",
    "\n",
    "print(a)\n",
    "print(b)\n",
    "print(c)\n",
    "print(d)\n",
    "print(f)\n",
    "print(e)\n",
    "\n",
    "# 포맷팅 추가\n",
    "a = \"사과를 {0}개, 바나나를 {1}개\".format(3, 4)\n",
    "print(a)\n",
    "a = \"{0:0.4f}\".format(3.1415926535)\n",
    "print(a)"
   ]
  },
  {
   "cell_type": "code",
   "execution_count": 66,
   "metadata": {},
   "outputs": [
    {
     "name": "stdout",
     "output_type": "stream",
     "text": [
      "8\n",
      "2\n",
      "-1\n",
      "1\n",
      "COCACOLA\n",
      "cocacola\n",
      "cocacola\n"
     ]
    }
   ],
   "source": [
    "# 문자열 함수\n",
    "a = \"cocacola\"\n",
    "print(len(a)) # 길이\n",
    "print(a.count(\"co\")) # 해당 문자열의 개수\n",
    "print(a.find(\"z\")) # 해당 문자열이 처음 나온 위치 (없으면 -1)\n",
    "print(a.index(\"o\")) # 해당 문자열이 처음 나온 위치 (없으면 Error)\n",
    "print(a.upper()) # 대문자\n",
    "print(a.lower()) # 소문자\n",
    "print(a.strip()) # 양옆 공백 제거\n",
    " \n",
    "#print(list(a)) # 배열\n",
    "#print(tuple(a))"
   ]
  },
  {
   "cell_type": "code",
   "execution_count": 77,
   "metadata": {},
   "outputs": [
    {
     "name": "stdout",
     "output_type": "stream",
     "text": [
      "Talk is cheap. Show me the Code\n",
      "Money is cheap. Show me the Code\n",
      "['Talk', 'is', 'cheap.', 'Show', 'me', 'the', 'Code']\n"
     ]
    }
   ],
   "source": [
    "a = \"Talk is cheap. Show me the Code\"\n",
    "print(a)\n",
    "\n",
    "print(a.replace(\"Talk\", \"Money\"))\n",
    "print(a.split()) #  리스트"
   ]
  },
  {
   "cell_type": "code",
   "execution_count": 94,
   "metadata": {},
   "outputs": [
    {
     "name": "stdout",
     "output_type": "stream",
     "text": [
      "[1, 2, 3, 4.13, 'hello', True, ['List', 1, 'List']]\n",
      "<class 'list'>\n",
      "h\n",
      "[1, 2]\n"
     ]
    }
   ],
   "source": [
    "# Python의 List\n",
    "\n",
    "a = list()\n",
    "a = []\n",
    "a = [1, 2, 3, 4, 5]\n",
    "a = [1, 2, 3, 4.13, 'hello', True] # List에는 데이터타입 관계X\n",
    "a = [1, 2, 3, 4.13, 'hello', True, [\"List\", 1, \"List\"]] # List에는 데이터타입 관계X\n",
    "print(a)\n",
    "print(type(a))\n",
    "print(a[4][0])\n",
    "print(a[0:2])"
   ]
  },
  {
   "cell_type": "code",
   "execution_count": 110,
   "metadata": {},
   "outputs": [
    {
     "data": {
      "text/plain": [
       "[2, 3, 4, 5]"
      ]
     },
     "execution_count": 110,
     "metadata": {},
     "output_type": "execute_result"
    }
   ],
   "source": [
    "# List의 연산\n",
    "a = [1, 2, 3]\n",
    "b = [4, 5, 6]\n",
    "a + b\n",
    "a * 3 # 3번 반복\n",
    "str(a[0]) + \". Hello\"\n",
    "\n",
    "a = [1, 2, 3, 4, 5]\n",
    "a[0] = 6\n",
    "a[0] = [7, 8, 9] # 리스트 안에 리스트\n",
    "a[0:1] = [7, 8, 9] # 리스트의 0번째부터 7, 8, 9 부분리스트 삽입\n",
    "\n",
    "a = [1, 2, 3, 4, 5]\n",
    "a[1:3] = [] # 1 4 5 # 부분리스트 삭제\n",
    "a\n",
    "\n",
    "a = [1, 2, 3, 4, 5]\n",
    "del a[0] #특정 인덱스 요소 삭제\n",
    "a"
   ]
  },
  {
   "cell_type": "code",
   "execution_count": 137,
   "metadata": {},
   "outputs": [
    {
     "name": "stdout",
     "output_type": "stream",
     "text": [
      "[1, 2, 3, 4, 7, 9]\n",
      "[9, 7, 4, 3, 2, 1]\n",
      "[-1, 1, 2, 3]\n",
      "[1, 2, 1, 2, 3, 1, 2, 3]\n",
      "[1, 2]\n",
      "[1, 2, 3, 4, 5, 6, 7]\n"
     ]
    }
   ],
   "source": [
    "# List의 함수\n",
    "a = [1, 2, 3, 4, 5]\n",
    "a.append(6) # 마지막에 추가\n",
    "a\n",
    "\n",
    "a = [7, 4, 1, 9, 2, 3]\n",
    "a.sort() # 정렬 (return이 없음 - list 자체가 변경 됨)\n",
    "print(a)\n",
    "a.reverse() # 뒤집기\n",
    "print(a)\n",
    "\n",
    "a = [1, 2, 3]\n",
    "a.insert(0, -1) # 0번째 앞에 -1 추가\n",
    "print(a)\n",
    "\n",
    "a = [1, 2, 3, 1, 2, 3, 1, 2, 3]\n",
    "a.remove(3) # 처음 발견한 3 삭제\n",
    "print(a)\n",
    "\n",
    "a = [1, 2, 3]\n",
    "a.pop() # 맨 마지막 요소 삭제\n",
    "print(a)\n",
    "\n",
    "a = [1, 2, 3, 4]\n",
    "a.extend([5, 6, 7]) # 끝에 부분 리스트를 추가해서 늘림\n",
    "print(a)"
   ]
  },
  {
   "cell_type": "code",
   "execution_count": 162,
   "metadata": {
    "scrolled": true
   },
   "outputs": [
    {
     "name": "stdout",
     "output_type": "stream",
     "text": [
      "A와 B는 같은가? True\n",
      "(Slicing) A와 B는 같은 객체인가? False\n",
      "내용은 같은가? True\n",
      "False\n",
      "True\n"
     ]
    }
   ],
   "source": [
    "# List의 복사\n",
    "a = [1, 2, 3]\n",
    "b = a # 바로 대입\n",
    "print(\"A와 B는 같은가? \" + str(a is b))\n",
    " \n",
    "b = a[:] # 슬라이싱 한 것을 새로 만들어 대입\n",
    "print(\"(Slicing) A와 B는 같은 객체인가? \" + str(a is b))\n",
    "print(\"내용은 같은가? \" + str(a==b))\n",
    "\n",
    "\n",
    "import copy as cp\n",
    "b = cp.copy(a)\n",
    "print(a is b)\n",
    "print(a == b)"
   ]
  },
  {
   "cell_type": "code",
   "execution_count": 187,
   "metadata": {},
   "outputs": [
    {
     "name": "stdout",
     "output_type": "stream",
     "text": [
      "<class 'int'>\n",
      "<class 'tuple'>\n",
      "<class 'tuple'>\n",
      "<class 'tuple'>\n",
      "(1, 2, (3, 4), 5, [100, 8, 9])\n",
      "(1, 2)\n",
      "(1, 2, 3, 4, 5, 6)\n",
      "(1, 2, 3, 1, 2, 3, 1, 2, 3)\n"
     ]
    }
   ],
   "source": [
    "# Tuple\n",
    "# List와 유사하지만 값의 생성, 수정, 삭제 불가능\n",
    "# List처럼 기본적인 Indexing, Slicing, 연산은 가능\n",
    "a = tuple()\n",
    "a = ()\n",
    "a = (100) # 정수로 인식할 수도 있음!\n",
    "print(type(a))\n",
    "\n",
    "#요소가 하나인 튜플 선언\n",
    "a = (100,)\n",
    "print(type(a))\n",
    "\n",
    "a = (1, 2 ,3, 4, 5)\n",
    "print(type(a))\n",
    "a = 1, 2, 3, 4, 5\n",
    "print(type(a))\n",
    "\n",
    "# 다음과 같은 방식으로도 변수 선언 가능!!!\n",
    "a,b = [1,2]\n",
    "type(a)\n",
    "a, b, c, d = 1, 2, 3, 4\n",
    "\n",
    "a = (1, 2, (3, 4), 5, [7, 8, 9])\n",
    "a[4][0] = 100 # 튜플 안에 있어도 리스트라면 변경 가능\n",
    "print (a)\n",
    "\n",
    "\n",
    "a = (1, 2, (3, 4), 5, [7, 8, 9])\n",
    "print(a[0:2]) # 튜플 슬라이싱\n",
    "\n",
    "a = (1, 2, 3)\n",
    "b = (4, 5, 6)\n",
    "print(a + b)\n",
    "print(a * 3)"
   ]
  },
  {
   "cell_type": "code",
   "execution_count": 200,
   "metadata": {},
   "outputs": [
    {
     "name": "stdout",
     "output_type": "stream",
     "text": [
      "<class 'dict'>\n",
      "홍길동 30 서울\n",
      "{'age': 30, 'name': '홍길동', 'gender': '남', 'address': '서울'}\n",
      "{'age': 40, 'name': '홍길동', 'gender': '남'}\n"
     ]
    }
   ],
   "source": [
    "# Python의 Dictionary (연관 배열 Hash, Map)\n",
    "a = {} # dict\n",
    "a = {\"name\" : \"홍길동\", \"age\" : 30, \"address\" : \"서울\"}\n",
    "print(type(a))\n",
    "print(a[\"name\"], a[\"age\"], a[\"address\"])\n",
    "a[\"gender\"] = \"남\"\n",
    "print(a)\n",
    "\n",
    "a[\"age\"] = 40 # 값 변경\n",
    "del a[\"address\"] # key값을 이용한 삭제\n",
    "print(a)"
   ]
  },
  {
   "cell_type": "code",
   "execution_count": 219,
   "metadata": {},
   "outputs": [
    {
     "name": "stdout",
     "output_type": "stream",
     "text": [
      "dict_keys(['age', 'name', 'address'])\n",
      "dict_values([30, '홍길동', '서울'])\n",
      "dict_items([('age', 30), ('name', '홍길동'), ('address', '서울')])\n",
      "\n",
      "\n",
      "반복문 시작\n",
      "key: age / value: 30\n",
      "key: name / value: 홍길동\n",
      "key: address / value: 서울\n",
      "서울\n",
      "서울\n",
      "True\n"
     ]
    }
   ],
   "source": [
    "# Dictionary의 함수\n",
    "a = {\"name\" : \"홍길동\", \"age\" : 30, \"address\" : \"서울\"}\n",
    "\n",
    "print(a.keys())\n",
    "print(a.values())\n",
    "print(a.items())\n",
    "\n",
    "print(\"\\n\\n반복문 시작\")\n",
    "for key in a.keys() :\n",
    "    print(\"key: {0} / value: {1}\".format(key, a[key]))\n",
    "    \n",
    "print(a[\"address\"]) # 방법1\n",
    "print(a.get(\"address\")) # 방법2\n",
    "\n",
    "print(\"name\" in a) # a 안에 name이 존재하는 지 확인\n",
    "\n",
    "a.clear() # 모든 내용 삭제"
   ]
  },
  {
   "cell_type": "code",
   "execution_count": 232,
   "metadata": {},
   "outputs": [
    {
     "name": "stdout",
     "output_type": "stream",
     "text": [
      "<class 'set'>\n",
      "{1, 2, 3, 5, 7, 8}\n",
      "{'o', 'H', 'l', 'e'}\n",
      "{1, 3, 5}\n",
      "{1, 2, 3, 5, 7, 8, 9, 10, 11}\n",
      "{8, 2, 7}\n",
      "{1, 3, 33, 5, 7, 8, 11, 44, 13, 22}\n"
     ]
    }
   ],
   "source": [
    "# Boolean\n",
    "# True, False\n",
    "\n",
    "\n",
    "# 집합 (Set)\n",
    "# 자료구조, 순서 X, 중복 X\n",
    "a = {1, 2, 3}\n",
    "print(type(a))\n",
    "\n",
    "a = set([3, 2, 1, 5, 7, 8])\n",
    "print(a)\n",
    "\n",
    "a = set(\"Hello\") # 중복된 l이 제거됨\n",
    "print(a)\n",
    "\n",
    "s1 = set([3, 2, 1, 5, 7, 8])\n",
    "s2 = set([9, 10, 11, 5, 1, 3])\n",
    "\n",
    "print(s1 & s2)\n",
    "print(s1 | s2)\n",
    "print(s1 - s2)\n",
    "\n",
    "s1.add(13)\n",
    "s1.update([11, 22, 33, 44])\n",
    "s1.remove(2)\n",
    "print(s1)"
   ]
  },
  {
   "cell_type": "code",
   "execution_count": 244,
   "metadata": {},
   "outputs": [
    {
     "name": "stdout",
     "output_type": "stream",
     "text": [
      "서울\n",
      "350\n"
     ]
    }
   ],
   "source": [
    "# if문 구조\n",
    "\n",
    "area = [\"서울\", \"수원\", \"인천\"]\n",
    "\n",
    "if \"제주\" in area:\n",
    "    pass\n",
    "elif \"서울\" in area:\n",
    "    print(\"서울\")\n",
    "else:\n",
    "    print(\"없음\")\n",
    "    \n",
    "# for문 구조\n",
    "score = [100, 80, 80, 40, 50]\n",
    "sum = 0\n",
    "\n",
    "for n in range(len(score)):\n",
    "    sum += score[n]\n",
    "print(sum)"
   ]
  },
  {
   "cell_type": "code",
   "execution_count": 301,
   "metadata": {},
   "outputs": [
    {
     "name": "stdout",
     "output_type": "stream",
     "text": [
      "[두  수의 합]\n",
      "입력: 7652310 \n",
      "출력: 1075\n",
      "----------------\n",
      "[두  수의 차]\n",
      "입력: 7652310 \n",
      "출력: 554\n"
     ]
    }
   ],
   "source": [
    "# Exercise\n",
    "input = \"7652310\"\n",
    "\n",
    "input_len = len(input)\n",
    "\n",
    "len(input)\n",
    "input_mid = input_len // 2\n",
    "\n",
    "input_left = input[:input_mid]\n",
    "\n",
    "input_right = input[input_mid+1:]\n",
    "\n",
    "sum = int(input_left) + int(input_right)\n",
    "\n",
    "input_left2 = []\n",
    "for s in input_left:\n",
    "    input_left2.append(s)\n",
    "    \n",
    "input_left2.reverse()\n",
    "input_left3 = \"\"\n",
    "for s in input_left2:\n",
    "    input_left3 += s\n",
    "\n",
    "input_right2 = []\n",
    "for s in input_right:\n",
    "    input_right2.append(s)\n",
    "    \n",
    "input_right2.reverse()\n",
    "input_right3 = \"\"\n",
    "for s in input_right2:\n",
    "    input_right3 += s\n",
    "\n",
    "mi = 0\n",
    "if int(input_left3) > int(input_right3) :\n",
    "    mi = int(input_left3) - int(input_right3)\n",
    "else:\n",
    "    mi = int(input_right3) - int(input_left3)\n",
    "\n",
    "print(\"[두  수의 합]\")\n",
    "print(\"입력: {0} \\n출력: {1}\".format(input, sum))\n",
    "print(\"----------------\")\n",
    "print(\"[두  수의 차]\")\n",
    "print(\"입력: {0} \\n출력: {1}\".format(input, mi))"
   ]
  },
  {
   "cell_type": "code",
   "execution_count": 308,
   "metadata": {},
   "outputs": [
    {
     "name": "stdout",
     "output_type": "stream",
     "text": [
      "[2, 4, 6, 8, 10, 12, 14, 16]\n",
      "[12, 14, 16]\n"
     ]
    }
   ],
   "source": [
    "list = [1, 2, 3, 4, 5, 6, 7, 8]\n",
    "\n",
    "score1 = [tmp * 2 for tmp in list]\n",
    "score2 = [tmp * 2 for tmp in list if tmp > 5]\n",
    "print(score1)\n",
    "print(score2)"
   ]
  },
  {
   "cell_type": "code",
   "execution_count": 312,
   "metadata": {},
   "outputs": [
    {
     "data": {
      "text/plain": [
       "100"
      ]
     },
     "execution_count": 312,
     "metadata": {},
     "output_type": "execute_result"
    }
   ],
   "source": [
    "def mysum(*a):\n",
    "    sum = 0\n",
    "    for i in range(len(a)):\n",
    "        sum += a[i]\n",
    "        \n",
    "    return sum\n",
    "\n",
    "#print(mysum(2, 4, 5))\n",
    "result = mysum(10, 20, 30, 40)\n",
    "result"
   ]
  },
  {
   "cell_type": "code",
   "execution_count": 317,
   "metadata": {},
   "outputs": [
    {
     "name": "stdout",
     "output_type": "stream",
     "text": [
      "30 200\n"
     ]
    }
   ],
   "source": [
    "def multi_return(a, b):\n",
    "    result1 = a + b\n",
    "    result2 = a * b\n",
    "    return result1, result2\n",
    "\n",
    "sum, mul = multi_return(10, 20)\n",
    "\n",
    "print(sum, mul)"
   ]
  },
  {
   "cell_type": "code",
   "execution_count": 336,
   "metadata": {},
   "outputs": [
    {
     "name": "stdout",
     "output_type": "stream",
     "text": [
      "30\n"
     ]
    },
    {
     "data": {
      "text/plain": [
       "3.141592"
      ]
     },
     "execution_count": 336,
     "metadata": {},
     "output_type": "execute_result"
    }
   ],
   "source": [
    "# 모듈불러오기\n",
    "from module1 import PI as p\n",
    "import myfolder.mymodule.module1 as m1\n",
    "from myfolder.mymodule import module1\n",
    "\n",
    "print(module1.sum(10, 20))\n",
    "\n",
    "# 다른 디렉토리의 모듈\n",
    "import sys\n",
    "sys.path.append(\"C:/python_Lib\")\n",
    "\n",
    "m1.PI\n",
    "\n",
    "# 환경변수 PYTHONPATH를 생성한 후 모듈을 저장한 폴더를 설정"
   ]
  },
  {
   "cell_type": "code",
   "execution_count": 326,
   "metadata": {},
   "outputs": [],
   "source": [
    "\n",
    "\n",
    "\n"
   ]
  }
 ],
 "metadata": {
  "kernelspec": {
   "display_name": "Python [conda env:tensorflow_env]",
   "language": "python",
   "name": "conda-env-tensorflow_env-py"
  },
  "language_info": {
   "codemirror_mode": {
    "name": "ipython",
    "version": 3
   },
   "file_extension": ".py",
   "mimetype": "text/x-python",
   "name": "python",
   "nbconvert_exporter": "python",
   "pygments_lexer": "ipython3",
   "version": "3.5.6"
  }
 },
 "nbformat": 4,
 "nbformat_minor": 2
}
