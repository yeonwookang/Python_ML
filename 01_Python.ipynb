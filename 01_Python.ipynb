{
 "cells": [
  {
   "cell_type": "code",
   "execution_count": 6,
   "metadata": {},
   "outputs": [],
   "source": [
    "# Python 언어 기초"
   ]
  },
  {
   "cell_type": "code",
   "execution_count": 8,
   "metadata": {},
   "outputs": [
    {
     "data": {
      "text/plain": [
       "0.75"
      ]
     },
     "execution_count": 8,
     "metadata": {},
     "output_type": "execute_result"
    }
   ],
   "source": [
    "# Python Data Type\n",
    "\n",
    "#  숫자 (Number)\n",
    "a = 123 # 정수\n",
    "b = 3.14  # 실수\n",
    "c = 3.14E10 # 지수\n",
    "d = 1 + 2j # 복소수\n",
    "e = 0o34 # 8진수\n",
    "f = 0xAB # 16진수\n",
    "\n",
    "div = 3 / 4 # 다른 언어와 결과가 다름\n",
    "div"
   ]
  },
  {
   "cell_type": "code",
   "execution_count": 12,
   "metadata": {},
   "outputs": [
    {
     "data": {
      "text/plain": [
       "27"
      ]
     },
     "execution_count": 12,
     "metadata": {},
     "output_type": "execute_result"
    }
   ],
   "source": [
    "result = 3 ** 3 # 3의 3승\n",
    "result "
   ]
  },
  {
   "cell_type": "code",
   "execution_count": 13,
   "metadata": {},
   "outputs": [
    {
     "data": {
      "text/plain": [
       "1"
      ]
     },
     "execution_count": 13,
     "metadata": {},
     "output_type": "execute_result"
    }
   ],
   "source": [
    "result = 10 % 3 # 나눗셈 후 나머지\n",
    "result"
   ]
  },
  {
   "cell_type": "code",
   "execution_count": 14,
   "metadata": {},
   "outputs": [
    {
     "data": {
      "text/plain": [
       "3"
      ]
     },
     "execution_count": 14,
     "metadata": {},
     "output_type": "execute_result"
    }
   ],
   "source": [
    "result = 10 // 3 # 나눗셈 후 몫\n",
    "result"
   ]
  },
  {
   "cell_type": "code",
   "execution_count": 31,
   "metadata": {},
   "outputs": [
    {
     "name": "stdout",
     "output_type": "stream",
     "text": [
      "Hello\n",
      "World\n",
      "이것은\n",
      "소리없는\n",
      "아우성\n",
      "문자열\n",
      "줄바꿈 테스트\n"
     ]
    }
   ],
   "source": [
    "# 문자열 (String)\n",
    "a = \"Hello World\"; b = \"Hi\" # 한 줄에 여러 문장을 작성하는 경우 세미콜론 필요\n",
    "b = 'Hello World' # 작은 따옴표 사용 가능 \n",
    "c = \"Hello\\nWorld\" # 줄바꿈문자\n",
    "d = \"\"\"이것은\n",
    "소리없는\n",
    "아우성\"\"\"\n",
    "e = '''문자열\n",
    "줄바꿈 테스트'''\n",
    "print(c)\n",
    "print(d)\n",
    "print(e)"
   ]
  },
  {
   "cell_type": "code",
   "execution_count": 44,
   "metadata": {},
   "outputs": [
    {
     "name": "stdout",
     "output_type": "stream",
     "text": [
      "HelloWorld\n",
      "pythonpythonpython\n",
      "k\n",
      ".\n",
      "e\n",
      "Talk\n",
      "Talk is ch\n"
     ]
    }
   ],
   "source": [
    "# 문자열 연산\n",
    "first = \"Hello\"\n",
    "last = \"World\"\n",
    "\n",
    "print(first + last) # 문장 이어붙이기\n",
    "\n",
    "text = 'python'\n",
    "print (text * 3) # 문장을 3회 반복 출력\n",
    "\n",
    "# 문자열 인덱싱\n",
    "a = \"Talk is cheap. Show me the Code.\"\n",
    "print(a[3]) # 배열의 4번째 문자 출력\n",
    "print(a[-1]) # 마이너스를 입력하는 경우 뒤에서부터... 따라서 뒤에서부터 첫 번째 문자\n",
    "print(a[-2])\n",
    "\n",
    "# Talk (Slicing)\n",
    "print (a[0:4])\n",
    "print (a[:10]) # 처음부터 Index 9까지"
   ]
  },
  {
   "cell_type": "code",
   "execution_count": null,
   "metadata": {},
   "outputs": [],
   "source": [
    "# 문자열 Formatting\n",
    " a = \"나는 사과를 %d개 가지고 있어요!\" %3"
   ]
  }
 ],
 "metadata": {
  "kernelspec": {
   "display_name": "Python [conda env:tensorflow_env]",
   "language": "python",
   "name": "conda-env-tensorflow_env-py"
  },
  "language_info": {
   "codemirror_mode": {
    "name": "ipython",
    "version": 3
   },
   "file_extension": ".py",
   "mimetype": "text/x-python",
   "name": "python",
   "nbconvert_exporter": "python",
   "pygments_lexer": "ipython3",
   "version": "3.5.6"
  }
 },
 "nbformat": 4,
 "nbformat_minor": 2
}
