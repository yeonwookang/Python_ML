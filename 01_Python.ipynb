{
 "cells": [
  {
   "cell_type": "code",
   "execution_count": 6,
   "metadata": {},
   "outputs": [],
   "source": [
    "# Python 언어 기초"
   ]
  },
  {
   "cell_type": "code",
   "execution_count": 8,
   "metadata": {},
   "outputs": [
    {
     "data": {
      "text/plain": [
       "0.75"
      ]
     },
     "execution_count": 8,
     "metadata": {},
     "output_type": "execute_result"
    }
   ],
   "source": [
    "# Python Data Type\n",
    "\n",
    "#  숫자 (Number)\n",
    "a = 123 # 정수\n",
    "b = 3.14  # 실수\n",
    "c = 3.14E10 # 지수\n",
    "d = 1 + 2j # 복소수\n",
    "e = 0o34 # 8진수\n",
    "f = 0xAB # 16진수\n",
    "\n",
    "div = 3 / 4 # 다른 언어와 결과가 다름\n",
    "div"
   ]
  },
  {
   "cell_type": "code",
   "execution_count": 12,
   "metadata": {},
   "outputs": [
    {
     "data": {
      "text/plain": [
       "27"
      ]
     },
     "execution_count": 12,
     "metadata": {},
     "output_type": "execute_result"
    }
   ],
   "source": [
    "result = 3 ** 3 # 3의 3승\n",
    "result "
   ]
  },
  {
   "cell_type": "code",
   "execution_count": 13,
   "metadata": {},
   "outputs": [
    {
     "data": {
      "text/plain": [
       "1"
      ]
     },
     "execution_count": 13,
     "metadata": {},
     "output_type": "execute_result"
    }
   ],
   "source": [
    "result = 10 % 3 # 나눗셈 후 나머지\n",
    "result"
   ]
  },
  {
   "cell_type": "code",
   "execution_count": 14,
   "metadata": {},
   "outputs": [
    {
     "data": {
      "text/plain": [
       "3"
      ]
     },
     "execution_count": 14,
     "metadata": {},
     "output_type": "execute_result"
    }
   ],
   "source": [
    "result = 10 // 3 # 나눗셈 후 몫\n",
    "result"
   ]
  },
  {
   "cell_type": "code",
   "execution_count": 31,
   "metadata": {},
   "outputs": [
    {
     "name": "stdout",
     "output_type": "stream",
     "text": [
      "Hello\n",
      "World\n",
      "이것은\n",
      "소리없는\n",
      "아우성\n",
      "문자열\n",
      "줄바꿈 테스트\n"
     ]
    }
   ],
   "source": [
    "# 문자열 (String)\n",
    "a = \"Hello World\"; b = \"Hi\" # 한 줄에 여러 문장을 작성하는 경우 세미콜론 필요\n",
    "b = 'Hello World' # 작은 따옴표 사용 가능 \n",
    "c = \"Hello\\nWorld\" # 줄바꿈문자\n",
    "d = \"\"\"이것은\n",
    "소리없는\n",
    "아우성\"\"\"\n",
    "e = '''문자열\n",
    "줄바꿈 테스트'''\n",
    "print(c)\n",
    "print(d)\n",
    "print(e)"
   ]
  },
  {
   "cell_type": "code",
   "execution_count": 44,
   "metadata": {},
   "outputs": [
    {
     "name": "stdout",
     "output_type": "stream",
     "text": [
      "HelloWorld\n",
      "pythonpythonpython\n",
      "k\n",
      ".\n",
      "e\n",
      "Talk\n",
      "Talk is ch\n"
     ]
    }
   ],
   "source": [
    "# 문자열 연산\n",
    "first = \"Hello\"\n",
    "last = \"World\"\n",
    "\n",
    "print(first + last) # 문장 이어붙이기\n",
    "\n",
    "text = 'python'\n",
    "print (text * 3) # 문장을 3회 반복 출력\n",
    "\n",
    "# 문자열 인덱싱\n",
    "a = \"Talk is cheap. Show me the Code.\"\n",
    "print(a[3]) # 배열의 4번째 문자 출력\n",
    "print(a[-1]) # 마이너스를 입력하는 경우 뒤에서부터... 따라서 뒤에서부터 첫 번째 문자\n",
    "print(a[-2])\n",
    "\n",
    "# Talk (Slicing)\n",
    "print (a[0:4])\n",
    "print (a[:10]) # 처음부터 Index 9까지"
   ]
  },
  {
   "cell_type": "code",
   "execution_count": 75,
   "metadata": {},
   "outputs": [
    {
     "name": "stdout",
     "output_type": "stream",
     "text": [
      "나는 사과를 10개 가지고 있어요!\n",
      "나는 사과를 다섯개 가지고 있어요!\n",
      "나는 사과를 3개, 바나나를 5개 가지고 있어!\n",
      "에러율은 90%입니다.\n",
      "나는 사과를         10개 가지고 있어요!\n",
      "    3.1416\n",
      "사과를 3개, 바나나를 4개\n",
      "3.1416\n"
     ]
    }
   ],
   "source": [
    "# 문자열 Formatting\n",
    "count = 10\n",
    "a = \"나는 사과를 %d개 가지고 있어요!\" %count\n",
    "b = \"나는 사과를 %s개 가지고 있어요!\" %'다섯'\n",
    "c = \"나는 사과를 %d개, 바나나를 %d개 가지고 있어!\" %(3, 5)\n",
    "d = \"에러율은 %d%%입니다.\" %(90)\n",
    "f = \"나는 사과를 %10d개 가지고 있어요!\" %count\n",
    "e = \"%10.4f\" %3.1415926535 # 정수 10자리, 소수점 이하 4자리 (5자리에서 반올림)\n",
    "\n",
    "print(a)\n",
    "print(b)\n",
    "print(c)\n",
    "print(d)\n",
    "print(f)\n",
    "print(e)\n",
    "\n",
    "# 포맷팅 추가\n",
    "a = \"사과를 {0}개, 바나나를 {1}개\".format(3, 4)\n",
    "print(a)\n",
    "a = \"{0:0.4f}\".format(3.1415926535)\n",
    "print(a)"
   ]
  },
  {
   "cell_type": "code",
   "execution_count": 66,
   "metadata": {},
   "outputs": [
    {
     "name": "stdout",
     "output_type": "stream",
     "text": [
      "8\n",
      "2\n",
      "-1\n",
      "1\n",
      "COCACOLA\n",
      "cocacola\n",
      "cocacola\n"
     ]
    }
   ],
   "source": [
    "# 문자열 함수\n",
    "a = \"cocacola\"\n",
    "print(len(a)) # 길이\n",
    "print(a.count(\"co\")) # 해당 문자열의 개수\n",
    "print(a.find(\"z\")) # 해당 문자열이 처음 나온 위치 (없으면 -1)\n",
    "print(a.index(\"o\")) # 해당 문자열이 처음 나온 위치 (없으면 Error)\n",
    "print(a.upper()) # 대문자\n",
    "print(a.lower()) # 소문자\n",
    "print(a.strip()) # 양옆 공백 제거\n",
    " \n",
    "#print(list(a)) # 배열\n",
    "#print(tuple(a))"
   ]
  },
  {
   "cell_type": "code",
   "execution_count": 77,
   "metadata": {},
   "outputs": [
    {
     "name": "stdout",
     "output_type": "stream",
     "text": [
      "Talk is cheap. Show me the Code\n",
      "Money is cheap. Show me the Code\n",
      "['Talk', 'is', 'cheap.', 'Show', 'me', 'the', 'Code']\n"
     ]
    }
   ],
   "source": [
    "a = \"Talk is cheap. Show me the Code\"\n",
    "print(a)\n",
    "\n",
    "print(a.replace(\"Talk\", \"Money\"))\n",
    "print(a.split()) #  리스트"
   ]
  },
  {
   "cell_type": "code",
   "execution_count": 94,
   "metadata": {},
   "outputs": [
    {
     "name": "stdout",
     "output_type": "stream",
     "text": [
      "[1, 2, 3, 4.13, 'hello', True, ['List', 1, 'List']]\n",
      "<class 'list'>\n",
      "h\n",
      "[1, 2]\n"
     ]
    }
   ],
   "source": [
    "# Python의 List\n",
    "\n",
    "a = list()\n",
    "a = []\n",
    "a = [1, 2, 3, 4, 5]\n",
    "a = [1, 2, 3, 4.13, 'hello', True] # List에는 데이터타입 관계X\n",
    "a = [1, 2, 3, 4.13, 'hello', True, [\"List\", 1, \"List\"]] # List에는 데이터타입 관계X\n",
    "print(a)\n",
    "print(type(a))\n",
    "print(a[4][0])\n",
    "print(a[0:2])"
   ]
  },
  {
   "cell_type": "code",
   "execution_count": 110,
   "metadata": {},
   "outputs": [
    {
     "data": {
      "text/plain": [
       "[2, 3, 4, 5]"
      ]
     },
     "execution_count": 110,
     "metadata": {},
     "output_type": "execute_result"
    }
   ],
   "source": [
    "# List의 연산\n",
    "a = [1, 2, 3]\n",
    "b = [4, 5, 6]\n",
    "a + b\n",
    "a * 3 # 3번 반복\n",
    "str(a[0]) + \". Hello\"\n",
    "\n",
    "a = [1, 2, 3, 4, 5]\n",
    "a[0] = 6\n",
    "a[0] = [7, 8, 9] # 리스트 안에 리스트\n",
    "a[0:1] = [7, 8, 9] # 리스트의 0번째부터 7, 8, 9 부분리스트 삽입\n",
    "\n",
    "a = [1, 2, 3, 4, 5]\n",
    "a[1:3] = [] # 1 4 5 # 부분리스트 삭제\n",
    "a\n",
    "\n",
    "a = [1, 2, 3, 4, 5]\n",
    "del a[0] #특정 인덱스 요소 삭제\n",
    "a"
   ]
  },
  {
   "cell_type": "code",
   "execution_count": 137,
   "metadata": {},
   "outputs": [
    {
     "name": "stdout",
     "output_type": "stream",
     "text": [
      "[1, 2, 3, 4, 7, 9]\n",
      "[9, 7, 4, 3, 2, 1]\n",
      "[-1, 1, 2, 3]\n",
      "[1, 2, 1, 2, 3, 1, 2, 3]\n",
      "[1, 2]\n",
      "[1, 2, 3, 4, 5, 6, 7]\n"
     ]
    }
   ],
   "source": [
    "# List의 함수\n",
    "a = [1, 2, 3, 4, 5]\n",
    "a.append(6) # 마지막에 추가\n",
    "a\n",
    "\n",
    "a = [7, 4, 1, 9, 2, 3]\n",
    "a.sort() # 정렬 (return이 없음 - list 자체가 변경 됨)\n",
    "print(a)\n",
    "a.reverse() # 뒤집기\n",
    "print(a)\n",
    "\n",
    "a = [1, 2, 3]\n",
    "a.insert(0, -1) # 0번째 앞에 -1 추가\n",
    "print(a)\n",
    "\n",
    "a = [1, 2, 3, 1, 2, 3, 1, 2, 3]\n",
    "a.remove(3) # 처음 발견한 3 삭제\n",
    "print(a)\n",
    "\n",
    "a = [1, 2, 3]\n",
    "a.pop() # 맨 마지막 요소 삭제\n",
    "print(a)\n",
    "\n",
    "a = [1, 2, 3, 4]\n",
    "a.extend([5, 6, 7]) # 끝에 부분 리스트를 추가해서 늘림\n",
    "print(a)"
   ]
  },
  {
   "cell_type": "code",
   "execution_count": 162,
   "metadata": {
    "scrolled": true
   },
   "outputs": [
    {
     "name": "stdout",
     "output_type": "stream",
     "text": [
      "A와 B는 같은가? True\n",
      "(Slicing) A와 B는 같은 객체인가? False\n",
      "내용은 같은가? True\n",
      "False\n",
      "True\n"
     ]
    }
   ],
   "source": [
    "# List의 복사\n",
    "a = [1, 2, 3]\n",
    "b = a # 바로 대입\n",
    "print(\"A와 B는 같은가? \" + str(a is b))\n",
    " \n",
    "b = a[:] # 슬라이싱 한 것을 새로 만들어 대입\n",
    "print(\"(Slicing) A와 B는 같은 객체인가? \" + str(a is b))\n",
    "print(\"내용은 같은가? \" + str(a==b))\n",
    "\n",
    "\n",
    "import copy as cp\n",
    "b = cp.copy(a)\n",
    "print(a is b)\n",
    "print(a == b)"
   ]
  },
  {
   "cell_type": "code",
   "execution_count": 184,
   "metadata": {},
   "outputs": [
    {
     "name": "stdout",
     "output_type": "stream",
     "text": [
      "<class 'int'>\n",
      "<class 'tuple'>\n",
      "<class 'tuple'>\n",
      "<class 'tuple'>\n",
      "(1, 2, (3, 4), 5, [100, 8, 9])\n",
      "(1, 2)\n"
     ]
    }
   ],
   "source": [
    "# Tuple\n",
    "# List와 유사하지만 값의 생성, 수정, 삭제 불가능\n",
    "# List처럼 기본적인 Indexing, Slicing, 연산은 가능\n",
    "a = tuple()\n",
    "a = ()\n",
    "a = (100) # 정수로 인식할 수도 있음!\n",
    "print(type(a))\n",
    "\n",
    "#요소가 하나인 튜플 선언\n",
    "a = (100,)\n",
    "print(type(a))\n",
    "\n",
    "a = (1, 2 ,3, 4, 5)\n",
    "print(type(a))\n",
    "a = 1, 2, 3, 4, 5\n",
    "print(type(a))\n",
    "\n",
    "# 다음과 같은 방식으로도 변수 선언 가능!!!\n",
    "a,b = [1,2]\n",
    "type(a)\n",
    "a, b, c, d = 1, 2, 3, 4\n",
    "\n",
    "a = (1, 2, (3, 4), 5, [7, 8, 9])\n",
    "a[4][0] = 100 # 튜플 안에 있어도 리스트라면 변경 가능\n",
    "print (a)\n",
    "\n",
    "\n",
    "a = (1, 2, (3, 4), 5, [7, 8, 9])\n",
    "print(a[0:2]) # 튜플 슬라이싱\n",
    "\n",
    "a = (1, 2, 3)\n",
    "b = (,)"
   ]
  }
 ],
 "metadata": {
  "kernelspec": {
   "display_name": "Python [conda env:tensorflow_env]",
   "language": "python",
   "name": "conda-env-tensorflow_env-py"
  },
  "language_info": {
   "codemirror_mode": {
    "name": "ipython",
    "version": 3
   },
   "file_extension": ".py",
   "mimetype": "text/x-python",
   "name": "python",
   "nbconvert_exporter": "python",
   "pygments_lexer": "ipython3",
   "version": "3.5.6"
  }
 },
 "nbformat": 4,
 "nbformat_minor": 2
}
