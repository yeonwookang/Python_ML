{
 "cells": [
  {
   "cell_type": "code",
   "execution_count": 2,
   "metadata": {},
   "outputs": [],
   "source": [
    "import tensorflow as tf\n",
    "import numpy as np\n",
    "import pandas as pd"
   ]
  },
  {
   "cell_type": "code",
   "execution_count": 3,
   "metadata": {},
   "outputs": [],
   "source": [
    "# Tensorflow는 data flow graph를 이용해서 수학적 연산을 하는\n",
    "# 구글에서 만든 machine learning을 위한 open source library\n",
    "# graph를 만듦 (node라는 개념과 edge라는 개념이 있음)\n",
    "# node가 하는 일은 수학적 연산 (사칙연산)과 현재 node가 갖고 있는 tensor를 출력\n",
    "# tensor는 동적인 크기인 다차원 배열을 저장\n",
    "# edge는 tensor를 node로 실어 나르는 역할\n",
    "# tensorflow에서 사용하는 graph는 방향성이 있는 graph"
   ]
  },
  {
   "cell_type": "code",
   "execution_count": 9,
   "metadata": {},
   "outputs": [
    {
     "data": {
      "text/plain": [
       "b'Hello World'"
      ]
     },
     "execution_count": 9,
     "metadata": {},
     "output_type": "execute_result"
    }
   ],
   "source": [
    "node1 = tf.constant(\"Hello World\") # 문자열 상수를 가지고 있는 node1 생성\n",
    "\n",
    "sess = tf.Session()\n",
    "\n",
    "# sess(runner)를 이용해서 node 실행\n",
    "sess.run(node1)"
   ]
  },
  {
   "cell_type": "code",
   "execution_count": 13,
   "metadata": {},
   "outputs": [
    {
     "name": "stdout",
     "output_type": "stream",
     "text": [
      "node3 : 40.0\n"
     ]
    }
   ],
   "source": [
    "node1 = tf.constant(10, dtype=tf.float64) \n",
    "node2 = tf.constant(30, dtype=tf.float64) \n",
    "\n",
    "node3 = node1 + node2\n",
    "\n",
    "sess = tf.Session() # 세선 생성\n",
    "\n",
    "print(\"node3 : {0}\".format(sess.run(node3))) # node3 실행"
   ]
  },
  {
   "cell_type": "code",
   "execution_count": 16,
   "metadata": {},
   "outputs": [
    {
     "name": "stdout",
     "output_type": "stream",
     "text": [
      "node3 : [80. 90.]\n"
     ]
    }
   ],
   "source": [
    "# 입력 parameter\n",
    "node1 = tf.placeholder(dtype=tf.float64) # 입력 값의 자료형 지정\n",
    "node2 = tf.placeholder(dtype=tf.float64) # 입력 값의 자료형 지정\n",
    "node3 = node1 + node2\n",
    "\n",
    "sess = tf.Session()\n",
    "\n",
    "print(\"node3 : {0}\".format(sess.run(node3, feed_dict={node1:[30,20], node2:[50,70]}))) # node3 실행"
   ]
  },
  {
   "cell_type": "code",
   "execution_count": 47,
   "metadata": {},
   "outputs": [
    {
     "name": "stdout",
     "output_type": "stream",
     "text": [
      "W :[-1.5168977] , b :[1.0277784] , cost :25.525968551635742\n",
      "W :[0.61775833] , b :[0.8689251] , cost :0.10883650183677673\n",
      "W :[0.81432384] , b :[0.42208573] , cost :0.025680961087346077\n",
      "W :[0.90980643] , b :[0.20503111] , cost :0.006059680134057999\n",
      "W :[0.9561879] , b :[0.09959509] , cost :0.0014298321912065148\n",
      "W :[0.978718] , b :[0.04837903] , cost :0.00033738496131263673\n",
      "W :[0.989662] , b :[0.02350054] , cost :7.960949005791917e-05\n",
      "W :[0.9949783] , b :[0.01141553] , cost :1.878463626781013e-05\n",
      "W :[0.9975607] , b :[0.00554513] , cost :4.4323592192085925e-06\n",
      "W :[0.99881506] , b :[0.00269367] , cost :1.045993826664926e-06\n",
      "W :[0.9994242] , b :[0.00130878] , cost :2.468847242198535e-07\n",
      "예측값 : [1.000733  2.000157  2.9995813]\n"
     ]
    }
   ],
   "source": [
    "# 기본적인 Iinear Regression에 대한 tensorflow코드\n",
    "\n",
    "#training data set\n",
    "x = [1, 2, 3] # 입력 데이터\n",
    "y = [1, 2, 3] # label\n",
    "\n",
    "# weight & bias (training variable 선언)\n",
    "W = tf.Variable(tf.random_normal([1]), name=\"weight\")\n",
    "b = tf.Variable(tf.random_normal([1]), name=\"bias\")\n",
    "\n",
    "\n",
    "H = W * x + b # H를 구하는 것이 최종 목표 (w와 b를 구하는 게 우리의 목표)\n",
    "\n",
    "# 최적의 가설을 만들기 위해 Cost(LOss) function 이용\n",
    "cost = tf.reduce_mean(tf.square(H-y))\n",
    "\n",
    "\n",
    "# cost function을 최소화 시키는 작업을 진행\n",
    "# 최소화 작업은 한 방에 되지 않음\n",
    "optimizer = tf.train.GradientDescentOptimizer(learning_rate=0.01)\n",
    "train = optimizer.minimize(cost)\n",
    "\n",
    "\n",
    "x = tf.placeholder(dtype=tf.float64)\n",
    "y = tf.placeholder(dtype=tf.float64)\n",
    "\n",
    "#run\n",
    "sess = tf.Session()\n",
    "\n",
    "sess.run(tf.global_variables_initializer()) # 전역 변수 초기화 작업\n",
    "\n",
    "\n",
    "for step in range(3001) :\n",
    "    _, w_val, b_val, cost_val = sess.run([train, W, b, cost],feed_dict={x:[1, 2, 3], y:[3, 5, 7]})\n",
    "    if step % 300 == 0:\n",
    "        print(\"W: {0}\".format(w_val), end=\",\")\n",
    "        print(\"b: {0}\".format(b_val), end=\",\")\n",
    "        print(\"cost: {0}\".format(cost_val))\n",
    "        \n",
    "#Prediction\n",
    "print(\"예측값 : {0}\".format(sess.run(H,feed_dict={x:[30]})))"
   ]
  },
  {
   "cell_type": "code",
   "execution_count": 50,
   "metadata": {},
   "outputs": [
    {
     "name": "stdout",
     "output_type": "stream",
     "text": [
      "W :[0.8872763] , b :[0.04026084] , cost :13.873509407043457\n",
      "W :[2.0841932] , b :[0.80860966] , cost :0.005280178040266037\n",
      "W :[2.0408976] , b :[0.90703076] , cost :0.0012459206627681851\n",
      "W :[2.019866] , b :[0.9548395] , cost :0.00029398591141216457\n",
      "W :[2.00965] , b :[0.97806317] , cost :6.936773570487276e-05\n",
      "W :[2.004688] , b :[0.9893433] , cost :1.6369862350984477e-05\n",
      "W :[2.002278] , b :[0.99482214] , cost :3.8648818190267775e-06\n",
      "W :[2.0011082] , b :[0.9974824] , cost :9.137749543697282e-07\n",
      "W :[2.0005393] , b :[0.99877423] , cost :2.1654471993315383e-07\n",
      "W :[2.0002627] , b :[0.99940217] , cost :5.151036930328701e-08\n",
      "W :[2.0001285] , b :[0.99970865] , cost :1.2278557726119743e-08\n",
      "예측값 :[61.003567]\n"
     ]
    }
   ],
   "source": [
    "#기본적인 linear regression에 대한 tensorflow code\n",
    "import tensorflow as tf\n",
    "\n",
    "\n",
    "x = tf.placeholder(tf.float32)\n",
    "y = tf.placeholder(tf.float32)\n",
    "\n",
    "\n",
    "# training data set\n",
    "#x = [1,2,3]  #입력데이터\n",
    "#y = [3,5,7]  #label\n",
    "#맨처음에는 학습데이터를 준비한다.\n",
    "\n",
    "# weight & bias ( training variable 선언 )\n",
    "W = tf.Variable(tf.random_normal([1]), name=\"weight\")\n",
    "b = tf.Variable(tf.random_normal([1]), name=\"bias\")\n",
    "\n",
    "# 가설을 세울 수 있따. hypothesis\n",
    "H = W*x + b    # 이 가설을 구하는게 우리의 최종 목표(w와 b값을 구하는게 우리의 목표)\n",
    "\n",
    "#최적의 가설을 만들기 위해 Cost(Loss) function을 이용\n",
    "\n",
    "cost = tf.reduce_mean(tf.square(H-y))\n",
    "\n",
    "\n",
    "#cost를 최소화 시키는 작업을 해주어야 한다. 이 작업은 한번에 되지 않느다.\n",
    "optimizer = tf.train.GradientDescentOptimizer(learning_rate=0.01)\n",
    "train = optimizer.minimize(cost)\n",
    "\n",
    "# run\n",
    "sess = tf.Session()\n",
    "\n",
    "sess.run(tf.global_variables_initializer()) # 전역변수 초기화 작업\n",
    "\n",
    "for step in range(3001):\n",
    "    _, W_val, b_val, cost_val = sess.run([train, W, b, cost], feed_dict = {x:[1,2,3], y:[3,5,7]})  # 이렇게 여러개를 한번에 돌리기 가능!!\n",
    "    if step % 300 == 0:\n",
    "        print(\"W :{0}\".format(W_val), end = \" , \")\n",
    "        print(\"b :{0}\".format(b_val), end = \" , \")\n",
    "        print(\"cost :{0}\".format(cost_val)) \n",
    "        \n",
    "\n",
    "\n",
    "#prediction\n",
    "print(\"예측값 :{0}\".format(sess.run(H, feed_dict= {x:[30]})))"
   ]
  },
  {
   "cell_type": "code",
   "execution_count": 82,
   "metadata": {},
   "outputs": [
    {
     "name": "stdout",
     "output_type": "stream",
     "text": [
      "결과 예측값: [[152.45901]]\n"
     ]
    }
   ],
   "source": [
    "# 다중입력을 위한 linear regression\n",
    "import tensorflow as tf\n",
    "\n",
    "# training data set\n",
    "x_data = [[73, 80, 75], \n",
    "         [93, 88, 93],\n",
    "         [89, 91, 90],\n",
    "         [96, 98, 100],\n",
    "         [73, 76, 70]]\n",
    "\n",
    "y_data = [[152], \n",
    "         [185],\n",
    "         [180],\n",
    "         [196],\n",
    "         [142]]\n",
    "\n",
    "# 나중을 위해 행은 고정하지 않음 열만 고정\n",
    "X = tf.placeholder(tf.float32, shape=[None,3])\n",
    "Y = tf.placeholder(tf.float32, shape=[None,1])\n",
    "\n",
    "# Weight와 Bias의 정의 - W는 3행 1열 행렬 곱이 일어날 수 있또록\n",
    "W = tf.Variable(tf.random_normal([3, 1]), name=\"weight\") #변화하는 값\n",
    "b = tf.Variable(tf.random_normal([1]), name=\"bias\")\n",
    "\n",
    "# 가설 정의\n",
    "H = tf.matmul(X, W) + b # 행렬의 곱 실행\n",
    "\n",
    "# cost function\n",
    "cost = tf.reduce_mean(tf.square(H-Y))\n",
    "\n",
    "# train\n",
    "train = tf.train.GradientDescentOptimizer(learning_rate=1e-5).minimize(cost)\n",
    "\n",
    "# run\n",
    "sess = tf.Session()\n",
    "sess.run(tf.global_variables_initializer()) # 전역변수 초기화 작업\n",
    "\n",
    "# 학습 진행\n",
    "for step in range(3000):\n",
    "    sess.run(train, feed_dict={X:x_data, Y:y_data})\n",
    "        \n",
    "print(\"결과 예측값: {0}\".format(sess.run(H, feed_dict={X:[[100, 100, 50]]})))"
   ]
  }
 ],
 "metadata": {
  "kernelspec": {
   "display_name": "Python [conda env:tensorflow_env]",
   "language": "python",
   "name": "conda-env-tensorflow_env-py"
  },
  "language_info": {
   "codemirror_mode": {
    "name": "ipython",
    "version": 3
   },
   "file_extension": ".py",
   "mimetype": "text/x-python",
   "name": "python",
   "nbconvert_exporter": "python",
   "pygments_lexer": "ipython3",
   "version": "3.5.6"
  }
 },
 "nbformat": 4,
 "nbformat_minor": 2
}
