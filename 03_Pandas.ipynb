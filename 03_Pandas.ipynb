{
 "cells": [
  {
   "cell_type": "code",
   "execution_count": 1,
   "metadata": {},
   "outputs": [],
   "source": [
    "import numpy as np\n",
    "import pandas as pd #불러오는데 오래 걸림"
   ]
  },
  {
   "cell_type": "code",
   "execution_count": 9,
   "metadata": {},
   "outputs": [
    {
     "data": {
      "text/plain": [
       "a   -1\n",
       "b    3\n",
       "c    6\n",
       "d    8\n",
       "e    9\n",
       "dtype: int64"
      ]
     },
     "execution_count": 9,
     "metadata": {},
     "output_type": "execute_result"
    }
   ],
   "source": [
    "# Series 생성\n",
    "obj = pd.Series([-1, 3, 6, 8, 9], index=[\"a\", \"b\", \"c\", \"d\", \"e\"])\n",
    "obj"
   ]
  },
  {
   "cell_type": "code",
   "execution_count": 8,
   "metadata": {},
   "outputs": [
    {
     "data": {
      "text/plain": [
       "region\n",
       "pusan    2000\n",
       "seoul    1000\n",
       "suwon    3000\n",
       "Name: price_per_region, dtype: int64"
      ]
     },
     "execution_count": 8,
     "metadata": {},
     "output_type": "execute_result"
    }
   ],
   "source": [
    "#Dictionary를 이용한 Series 생성\n",
    "dict = {\"seoul\" : 1000, \"pusan\" : 2000, \"suwon\" : 3000}\n",
    "s = pd.Series(dict)\n",
    "s.name = \"price_per_region\"\n",
    "s.index.name =\"region\"\n",
    "s"
   ]
  },
  {
   "cell_type": "code",
   "execution_count": 10,
   "metadata": {},
   "outputs": [],
   "source": [
    "dict = {\"seoul\" : 1000, \"pusan\" : 2000, \"suwon\" : 3000}\n",
    "s = pd.Series(dict)"
   ]
  },
  {
   "cell_type": "code",
   "execution_count": 43,
   "metadata": {},
   "outputs": [
    {
     "data": {
      "text/html": [
       "<div>\n",
       "<style scoped>\n",
       "    .dataframe tbody tr th:only-of-type {\n",
       "        vertical-align: middle;\n",
       "    }\n",
       "\n",
       "    .dataframe tbody tr th {\n",
       "        vertical-align: top;\n",
       "    }\n",
       "\n",
       "    .dataframe thead th {\n",
       "        text-align: right;\n",
       "    }\n",
       "</style>\n",
       "<table border=\"1\" class=\"dataframe\">\n",
       "  <thead>\n",
       "    <tr style=\"text-align: right;\">\n",
       "      <th></th>\n",
       "      <th>year</th>\n",
       "      <th>names</th>\n",
       "      <th>points</th>\n",
       "      <th>double_points</th>\n",
       "    </tr>\n",
       "  </thead>\n",
       "  <tbody>\n",
       "    <tr>\n",
       "      <th>one</th>\n",
       "      <td>2015</td>\n",
       "      <td>kim</td>\n",
       "      <td>1.5</td>\n",
       "      <td>3.0</td>\n",
       "    </tr>\n",
       "    <tr>\n",
       "      <th>two</th>\n",
       "      <td>2016</td>\n",
       "      <td>kim</td>\n",
       "      <td>2.7</td>\n",
       "      <td>5.4</td>\n",
       "    </tr>\n",
       "    <tr>\n",
       "      <th>three</th>\n",
       "      <td>2017</td>\n",
       "      <td>lee</td>\n",
       "      <td>1.3</td>\n",
       "      <td>2.6</td>\n",
       "    </tr>\n",
       "    <tr>\n",
       "      <th>four</th>\n",
       "      <td>2015</td>\n",
       "      <td>park</td>\n",
       "      <td>2.6</td>\n",
       "      <td>5.2</td>\n",
       "    </tr>\n",
       "    <tr>\n",
       "      <th>five</th>\n",
       "      <td>2015</td>\n",
       "      <td>lee</td>\n",
       "      <td>3.0</td>\n",
       "      <td>6.0</td>\n",
       "    </tr>\n",
       "  </tbody>\n",
       "</table>\n",
       "</div>"
      ],
      "text/plain": [
       "       year names  points  double_points\n",
       "one    2015   kim     1.5            3.0\n",
       "two    2016   kim     2.7            5.4\n",
       "three  2017   lee     1.3            2.6\n",
       "four   2015  park     2.6            5.2\n",
       "five   2015   lee     3.0            6.0"
      ]
     },
     "execution_count": 43,
     "metadata": {},
     "output_type": "execute_result"
    }
   ],
   "source": [
    "# DataFrame\n",
    "data = {\"names\" : [\"kim\", \"kim\", \"lee\", \"park\", \"lee\"],\n",
    "       \"year\" : [2015, 2016, 2017, 2015, 2015],\n",
    "       \"points\" : [1.5, 2.7, 1.3, 2.6, 3.0]}\n",
    "\n",
    "df = pd.DataFrame(data,\n",
    "                 columns=[\"year\", \"names\", \"points\", \"grade\"],\n",
    "                 index=[\"one\", \"two\", \"three\", \"four\", \"five\"])\n",
    "df.values\n",
    "\n",
    "#df.index.name = \"sNum\"\n",
    "#df.columns.name = \"sInfo\"\n",
    "df[[\"names\", \"year\"]]\n",
    "\n",
    "df[\"grade\"] = [\"A\", \"B\", \"C\", \"A\", \"A\"]\n",
    "df[\"double_points\"] = df[\"points\"] * 2\n",
    "df[\"hi_points\"] = df[\"points\"] > 2.5\n",
    "del df[\"grade\"]\n",
    "df\n",
    "\n",
    "df.drop(\"hi_points\", axis=1)\n",
    "# 1차원에서는 0 : 오른쪽 방향\n",
    "# 2차원에서는 0, 1 : 0은 행방향 1은 열방향\n",
    "# 3차원에서는 0, 1, 2 : 0은 깊이, 1은 행방향, 2는 열방향"
   ]
  },
  {
   "cell_type": "code",
   "execution_count": 53,
   "metadata": {},
   "outputs": [
    {
     "data": {
      "text/html": [
       "<div>\n",
       "<style scoped>\n",
       "    .dataframe tbody tr th:only-of-type {\n",
       "        vertical-align: middle;\n",
       "    }\n",
       "\n",
       "    .dataframe tbody tr th {\n",
       "        vertical-align: top;\n",
       "    }\n",
       "\n",
       "    .dataframe thead th {\n",
       "        text-align: right;\n",
       "    }\n",
       "</style>\n",
       "<table border=\"1\" class=\"dataframe\">\n",
       "  <thead>\n",
       "    <tr style=\"text-align: right;\">\n",
       "      <th></th>\n",
       "      <th>names</th>\n",
       "      <th>points</th>\n",
       "      <th>grade</th>\n",
       "    </tr>\n",
       "  </thead>\n",
       "  <tbody>\n",
       "    <tr>\n",
       "      <th>one</th>\n",
       "      <td>kim</td>\n",
       "      <td>1.5</td>\n",
       "      <td>NaN</td>\n",
       "    </tr>\n",
       "    <tr>\n",
       "      <th>two</th>\n",
       "      <td>kim</td>\n",
       "      <td>2.7</td>\n",
       "      <td>NaN</td>\n",
       "    </tr>\n",
       "    <tr>\n",
       "      <th>three</th>\n",
       "      <td>lee</td>\n",
       "      <td>1.3</td>\n",
       "      <td>NaN</td>\n",
       "    </tr>\n",
       "  </tbody>\n",
       "</table>\n",
       "</div>"
      ],
      "text/plain": [
       "      names  points grade\n",
       "one     kim     1.5   NaN\n",
       "two     kim     2.7   NaN\n",
       "three   lee     1.3   NaN"
      ]
     },
     "execution_count": 53,
     "metadata": {},
     "output_type": "execute_result"
    }
   ],
   "source": [
    "# DataFrame\n",
    "data = {\"names\" : [\"kim\", \"kim\", \"lee\", \"park\", \"lee\"],\n",
    "       \"year\" : [2015, 2016, 2017, 2015, 2015],\n",
    "       \"points\" : [1.5, 2.7, 1.3, 2.6, 3.0]}\n",
    "\n",
    "df = pd.DataFrame(data,\n",
    "                 columns=[\"year\", \"names\", \"points\", \"grade\"],\n",
    "                 index=[\"one\", \"two\", \"three\", \"four\", \"five\"])\n",
    "\n",
    "# row indexing\n",
    "#df[0:2]\n",
    "df.loc[\"one\":\"three\", \"names\":\"grade\"]\n"
   ]
  },
  {
   "cell_type": "code",
   "execution_count": 56,
   "metadata": {},
   "outputs": [
    {
     "data": {
      "text/html": [
       "<div>\n",
       "<style scoped>\n",
       "    .dataframe tbody tr th:only-of-type {\n",
       "        vertical-align: middle;\n",
       "    }\n",
       "\n",
       "    .dataframe tbody tr th {\n",
       "        vertical-align: top;\n",
       "    }\n",
       "\n",
       "    .dataframe thead th {\n",
       "        text-align: right;\n",
       "    }\n",
       "</style>\n",
       "<table border=\"1\" class=\"dataframe\">\n",
       "  <thead>\n",
       "    <tr style=\"text-align: right;\">\n",
       "      <th></th>\n",
       "      <th>year</th>\n",
       "      <th>names</th>\n",
       "      <th>points</th>\n",
       "      <th>grade</th>\n",
       "    </tr>\n",
       "  </thead>\n",
       "  <tbody>\n",
       "    <tr>\n",
       "      <th>two</th>\n",
       "      <td>2016</td>\n",
       "      <td>kim</td>\n",
       "      <td>2.7</td>\n",
       "      <td>NaN</td>\n",
       "    </tr>\n",
       "    <tr>\n",
       "      <th>three</th>\n",
       "      <td>2017</td>\n",
       "      <td>lee</td>\n",
       "      <td>1.3</td>\n",
       "      <td>NaN</td>\n",
       "    </tr>\n",
       "    <tr>\n",
       "      <th>four</th>\n",
       "      <td>2015</td>\n",
       "      <td>park</td>\n",
       "      <td>2.6</td>\n",
       "      <td>NaN</td>\n",
       "    </tr>\n",
       "    <tr>\n",
       "      <th>five</th>\n",
       "      <td>2015</td>\n",
       "      <td>lee</td>\n",
       "      <td>3.0</td>\n",
       "      <td>NaN</td>\n",
       "    </tr>\n",
       "  </tbody>\n",
       "</table>\n",
       "</div>"
      ],
      "text/plain": [
       "       year names  points grade\n",
       "two    2016   kim     2.7   NaN\n",
       "three  2017   lee     1.3   NaN\n",
       "four   2015  park     2.6   NaN\n",
       "five   2015   lee     3.0   NaN"
      ]
     },
     "execution_count": 56,
     "metadata": {},
     "output_type": "execute_result"
    }
   ],
   "source": [
    "# DataFrame\n",
    "data = {\"names\" : [\"kim\", \"kim\", \"lee\", \"park\", \"lee\"],\n",
    "       \"year\" : [2015, 2016, 2017, 2015, 2015],\n",
    "       \"points\" : [1.5, 2.7, 1.3, 2.6, 3.0]}\n",
    "\n",
    "df = pd.DataFrame(data,\n",
    "                 columns=[\"year\", \"names\", \"points\", \"grade\"],\n",
    "                 index=[\"one\", \"two\", \"three\", \"four\", \"five\"])\n",
    "\n",
    "df.drop(\"one\")"
   ]
  },
  {
   "cell_type": "code",
   "execution_count": 61,
   "metadata": {},
   "outputs": [
    {
     "data": {
      "text/plain": [
       "2015"
      ]
     },
     "execution_count": 61,
     "metadata": {},
     "output_type": "execute_result"
    }
   ],
   "source": [
    "#iloc\n",
    "\n",
    "df.iloc[0, 0]"
   ]
  },
  {
   "cell_type": "code",
   "execution_count": 69,
   "metadata": {},
   "outputs": [
    {
     "data": {
      "text/html": [
       "<div>\n",
       "<style scoped>\n",
       "    .dataframe tbody tr th:only-of-type {\n",
       "        vertical-align: middle;\n",
       "    }\n",
       "\n",
       "    .dataframe tbody tr th {\n",
       "        vertical-align: top;\n",
       "    }\n",
       "\n",
       "    .dataframe thead th {\n",
       "        text-align: right;\n",
       "    }\n",
       "</style>\n",
       "<table border=\"1\" class=\"dataframe\">\n",
       "  <thead>\n",
       "    <tr style=\"text-align: right;\">\n",
       "      <th></th>\n",
       "      <th>year</th>\n",
       "      <th>names</th>\n",
       "      <th>points</th>\n",
       "      <th>grade</th>\n",
       "    </tr>\n",
       "  </thead>\n",
       "  <tbody>\n",
       "    <tr>\n",
       "      <th>two</th>\n",
       "      <td>2016</td>\n",
       "      <td>kim</td>\n",
       "      <td>2.7</td>\n",
       "      <td>NaN</td>\n",
       "    </tr>\n",
       "    <tr>\n",
       "      <th>four</th>\n",
       "      <td>2015</td>\n",
       "      <td>park</td>\n",
       "      <td>2.6</td>\n",
       "      <td>NaN</td>\n",
       "    </tr>\n",
       "    <tr>\n",
       "      <th>five</th>\n",
       "      <td>2015</td>\n",
       "      <td>lee</td>\n",
       "      <td>3.0</td>\n",
       "      <td>NaN</td>\n",
       "    </tr>\n",
       "  </tbody>\n",
       "</table>\n",
       "</div>"
      ],
      "text/plain": [
       "      year names  points grade\n",
       "two   2016   kim     2.7   NaN\n",
       "four  2015  park     2.6   NaN\n",
       "five  2015   lee     3.0   NaN"
      ]
     },
     "execution_count": 69,
     "metadata": {},
     "output_type": "execute_result"
    }
   ],
   "source": [
    "data = {\"names\" : [\"kim\", \"kim\", \"lee\", \"park\", \"lee\"],\n",
    "       \"year\" : [2015, 2016, 2017, 2015, 2015],\n",
    "       \"points\" : [1.5, 2.7, 1.3, 2.6, 3.0]}\n",
    "\n",
    "df = pd.DataFrame(data,\n",
    "                 columns=[\"year\", \"names\", \"points\", \"grade\"],\n",
    "                 index=[\"one\", \"two\", \"three\", \"four\", \"five\"])\n",
    "\n",
    "# MASK\n",
    "df.loc[df[\"points\"] > 2.0, [\"names\", \"points\"]]\n",
    "\n",
    "df.loc[df[\"names\"] == \"kim\",[\"names\", \"points\"]]\n",
    "\n",
    "df.loc[(df[\"year\"] >= 2015) & (df[\"points\"] > 2.0)]"
   ]
  },
  {
   "cell_type": "code",
   "execution_count": 95,
   "metadata": {},
   "outputs": [
    {
     "data": {
      "text/html": [
       "<div>\n",
       "<style scoped>\n",
       "    .dataframe tbody tr th:only-of-type {\n",
       "        vertical-align: middle;\n",
       "    }\n",
       "\n",
       "    .dataframe tbody tr th {\n",
       "        vertical-align: top;\n",
       "    }\n",
       "\n",
       "    .dataframe thead th {\n",
       "        text-align: right;\n",
       "    }\n",
       "</style>\n",
       "<table border=\"1\" class=\"dataframe\">\n",
       "  <thead>\n",
       "    <tr style=\"text-align: right;\">\n",
       "      <th></th>\n",
       "      <th>A</th>\n",
       "      <th>B</th>\n",
       "      <th>C</th>\n",
       "      <th>D</th>\n",
       "      <th>E</th>\n",
       "    </tr>\n",
       "  </thead>\n",
       "  <tbody>\n",
       "    <tr>\n",
       "      <th>2019-01-01</th>\n",
       "      <td>False</td>\n",
       "      <td>False</td>\n",
       "      <td>False</td>\n",
       "      <td>False</td>\n",
       "      <td>False</td>\n",
       "    </tr>\n",
       "    <tr>\n",
       "      <th>2019-01-02</th>\n",
       "      <td>False</td>\n",
       "      <td>False</td>\n",
       "      <td>False</td>\n",
       "      <td>False</td>\n",
       "      <td>True</td>\n",
       "    </tr>\n",
       "    <tr>\n",
       "      <th>2019-01-03</th>\n",
       "      <td>False</td>\n",
       "      <td>False</td>\n",
       "      <td>False</td>\n",
       "      <td>False</td>\n",
       "      <td>False</td>\n",
       "    </tr>\n",
       "    <tr>\n",
       "      <th>2019-01-04</th>\n",
       "      <td>False</td>\n",
       "      <td>False</td>\n",
       "      <td>False</td>\n",
       "      <td>False</td>\n",
       "      <td>True</td>\n",
       "    </tr>\n",
       "    <tr>\n",
       "      <th>2019-01-05</th>\n",
       "      <td>False</td>\n",
       "      <td>False</td>\n",
       "      <td>False</td>\n",
       "      <td>False</td>\n",
       "      <td>False</td>\n",
       "    </tr>\n",
       "    <tr>\n",
       "      <th>2019-01-06</th>\n",
       "      <td>False</td>\n",
       "      <td>False</td>\n",
       "      <td>False</td>\n",
       "      <td>False</td>\n",
       "      <td>True</td>\n",
       "    </tr>\n",
       "  </tbody>\n",
       "</table>\n",
       "</div>"
      ],
      "text/plain": [
       "                A      B      C      D      E\n",
       "2019-01-01  False  False  False  False  False\n",
       "2019-01-02  False  False  False  False   True\n",
       "2019-01-03  False  False  False  False  False\n",
       "2019-01-04  False  False  False  False   True\n",
       "2019-01-05  False  False  False  False  False\n",
       "2019-01-06  False  False  False  False   True"
      ]
     },
     "execution_count": 95,
     "metadata": {},
     "output_type": "execute_result"
    }
   ],
   "source": [
    "df = pd.DataFrame(np.random.randn(6, 4))\n",
    "df.columns = [\"A\", \"B\", \"C\", \"D\"]\n",
    "df.index = pd.date_range(\"20190101\", periods=6)\n",
    "df[\"E\"] = [3.5, np.nan, 2.0, np.nan, 1.7, np.nan]\n",
    "\n",
    "# Nan이 있는 행 모두 삭제\n",
    "df.dropna(how=\"any\")\n",
    "\n",
    "# Nan을 대체\n",
    "df.fillna(0)\n",
    "\n",
    "# 각 셀의 Nan 상태 체크\n",
    "df.isnull()"
   ]
  },
  {
   "cell_type": "code",
   "execution_count": 102,
   "metadata": {},
   "outputs": [
    {
     "data": {
      "text/plain": [
       "4.199999999999999"
      ]
     },
     "execution_count": 102,
     "metadata": {},
     "output_type": "execute_result"
    }
   ],
   "source": [
    "data = [[2.0, np.nan],\n",
    "       [7.3, -3.1],\n",
    "       [np.nan, np.nan],\n",
    "       [0.55, -2.6]]\n",
    "\n",
    "df = pd.DataFrame(data,\n",
    "                 columns=[\"one\", \"two\"],\n",
    "                 index=[\"a\", \"b\", \"c\", \"d\"])\n",
    "\n",
    "#합\n",
    "df.sum(axis=1)\n",
    "\n",
    "df[\"two\"].sum()  #특정열\n",
    "\n",
    "df.loc[\"b\"].sum() #특정행"
   ]
  },
  {
   "cell_type": "code",
   "execution_count": 136,
   "metadata": {},
   "outputs": [
    {
     "data": {
      "text/html": [
       "<div>\n",
       "<style scoped>\n",
       "    .dataframe tbody tr th:only-of-type {\n",
       "        vertical-align: middle;\n",
       "    }\n",
       "\n",
       "    .dataframe tbody tr th {\n",
       "        vertical-align: top;\n",
       "    }\n",
       "\n",
       "    .dataframe thead th {\n",
       "        text-align: right;\n",
       "    }\n",
       "</style>\n",
       "<table border=\"1\" class=\"dataframe\">\n",
       "  <thead>\n",
       "    <tr style=\"text-align: right;\">\n",
       "      <th></th>\n",
       "      <th>one</th>\n",
       "      <th>two</th>\n",
       "    </tr>\n",
       "  </thead>\n",
       "  <tbody>\n",
       "    <tr>\n",
       "      <th>a</th>\n",
       "      <td>2.000000</td>\n",
       "      <td>-3.1</td>\n",
       "    </tr>\n",
       "    <tr>\n",
       "      <th>b</th>\n",
       "      <td>7.300000</td>\n",
       "      <td>-3.1</td>\n",
       "    </tr>\n",
       "    <tr>\n",
       "      <th>c</th>\n",
       "      <td>3.283333</td>\n",
       "      <td>-3.1</td>\n",
       "    </tr>\n",
       "    <tr>\n",
       "      <th>d</th>\n",
       "      <td>0.550000</td>\n",
       "      <td>-2.6</td>\n",
       "    </tr>\n",
       "  </tbody>\n",
       "</table>\n",
       "</div>"
      ],
      "text/plain": [
       "        one  two\n",
       "a  2.000000 -3.1\n",
       "b  7.300000 -3.1\n",
       "c  3.283333 -3.1\n",
       "d  0.550000 -2.6"
      ]
     },
     "execution_count": 136,
     "metadata": {},
     "output_type": "execute_result"
    }
   ],
   "source": [
    "data = [[2.0, np.nan],\n",
    "       [7.3, -3.1],\n",
    "       [np.nan, np.nan],\n",
    "       [0.55, -2.6]]\n",
    "\n",
    "df = pd.DataFrame(data,\n",
    "                 columns=[\"one\", \"two\"],\n",
    "                 index=[\"a\", \"b\", \"c\", \"d\"])\n",
    "\n",
    "# 결측값을 다른값으로 대체\n",
    "# one의 nan은 one의 평균으로\n",
    "# two의 nan은 two의 최소값으로\n",
    "\n",
    "df1 = df.fillna(0)\n",
    "\n",
    "one_mean = df[\"one\"].mean()\n",
    "two_sum = df[\"two\"].sum()\n",
    "\n",
    "\n",
    "df[\"one\"] = df[\"one\"].fillna(value=df.mean(axis=0)[\"one\"])\n",
    "df[\"two\"] = df[\"two\"].fillna(value=df.min(axis=0)[\"two\"])\n",
    "\n",
    "df"
   ]
  },
  {
   "cell_type": "code",
   "execution_count": null,
   "metadata": {},
   "outputs": [],
   "source": []
  }
 ],
 "metadata": {
  "kernelspec": {
   "display_name": "Python [conda env:tensorflow_env]",
   "language": "python",
   "name": "conda-env-tensorflow_env-py"
  },
  "language_info": {
   "codemirror_mode": {
    "name": "ipython",
    "version": 3
   },
   "file_extension": ".py",
   "mimetype": "text/x-python",
   "name": "python",
   "nbconvert_exporter": "python",
   "pygments_lexer": "ipython3",
   "version": "3.5.6"
  }
 },
 "nbformat": 4,
 "nbformat_minor": 2
}
