{
 "cells": [
  {
   "cell_type": "code",
   "execution_count": 1,
   "metadata": {},
   "outputs": [],
   "source": [
    "import numpy as np\n",
    "import pandas as pd #불러오는데 오래 걸림"
   ]
  },
  {
   "cell_type": "code",
   "execution_count": 9,
   "metadata": {},
   "outputs": [
    {
     "data": {
      "text/plain": [
       "a   -1\n",
       "b    3\n",
       "c    6\n",
       "d    8\n",
       "e    9\n",
       "dtype: int64"
      ]
     },
     "execution_count": 9,
     "metadata": {},
     "output_type": "execute_result"
    }
   ],
   "source": [
    "# Series 생성\n",
    "obj = pd.Series([-1, 3, 6, 8, 9], index=[\"a\", \"b\", \"c\", \"d\", \"e\"])\n",
    "obj"
   ]
  },
  {
   "cell_type": "code",
   "execution_count": 8,
   "metadata": {},
   "outputs": [
    {
     "data": {
      "text/plain": [
       "region\n",
       "pusan    2000\n",
       "seoul    1000\n",
       "suwon    3000\n",
       "Name: price_per_region, dtype: int64"
      ]
     },
     "execution_count": 8,
     "metadata": {},
     "output_type": "execute_result"
    }
   ],
   "source": [
    "#Dictionary를 이용한 Series 생성\n",
    "dict = {\"seoul\" : 1000, \"pusan\" : 2000, \"suwon\" : 3000}\n",
    "s = pd.Series(dict)\n",
    "s.name = \"price_per_region\"\n",
    "s.index.name =\"region\"\n",
    "s"
   ]
  },
  {
   "cell_type": "code",
   "execution_count": 10,
   "metadata": {},
   "outputs": [],
   "source": [
    "dict = {\"seoul\" : 1000, \"pusan\" : 2000, \"suwon\" : 3000}\n",
    "s = pd.Series(dict)"
   ]
  },
  {
   "cell_type": "code",
   "execution_count": 12,
   "metadata": {},
   "outputs": [
    {
     "data": {
      "text/plain": [
       "{'names': ['kim', 'kim', 'lee', 'park', 'lee'],\n",
       " 'points': [1.5, 2.7, 1.3, 2.6, 3.0],\n",
       " 'year': [2015, 2016, 2017, 2015, 2015]}"
      ]
     },
     "execution_count": 12,
     "metadata": {},
     "output_type": "execute_result"
    }
   ],
   "source": [
    "# DataFrame\n",
    "data = {\"names\" : [\"kim\", \"kim\", \"lee\", \"park\", \"lee\"],\n",
    "       \"year\" : [2015, 2016, 2017, 2015, 2015],\n",
    "       \"points\" : [1.5, 2.7, 1.3, 2.6, 3.0]}\n",
    "\n",
    "data"
   ]
  }
 ],
 "metadata": {
  "kernelspec": {
   "display_name": "Python [conda env:tensorflow_env]",
   "language": "python",
   "name": "conda-env-tensorflow_env-py"
  },
  "language_info": {
   "codemirror_mode": {
    "name": "ipython",
    "version": 3
   },
   "file_extension": ".py",
   "mimetype": "text/x-python",
   "name": "python",
   "nbconvert_exporter": "python",
   "pygments_lexer": "ipython3",
   "version": "3.5.6"
  }
 },
 "nbformat": 4,
 "nbformat_minor": 2
}
