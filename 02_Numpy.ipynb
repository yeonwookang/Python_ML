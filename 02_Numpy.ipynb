{
 "cells": [
  {
   "cell_type": "code",
   "execution_count": 2,
   "metadata": {},
   "outputs": [],
   "source": [
    "# numpy에서는 ndarray\n",
    "# n-dimension array\n",
    "\n",
    "#ndarray: n-dimension array\n",
    "#Python의 List와 대동소이, 대신 ndarray는 같은 데이터 타입만 사용 가능\n",
    "#List보다 메모리도 적게 사용하며 속도도 빠름\n",
    "\n",
    "import numpy as np"
   ]
  },
  {
   "cell_type": "code",
   "execution_count": 64,
   "metadata": {},
   "outputs": [
    {
     "name": "stdout",
     "output_type": "stream",
     "text": [
      "Python List: [1, 2, 3, 4], Type: <class 'list'>\n",
      "Python List Item: 1, Type: <class 'int'>\n",
      "Numpy Array: [1 2 3 4], Type: <class 'numpy.ndarray'>\n",
      "Numpy Array Item: 1, Type: int32\n",
      "Numpy Array: ['1' '3' 'Hi' '3.14'], Type: <class 'numpy.ndarray'>\n",
      "Numpy Array Item: 1, Type: <U11\n"
     ]
    }
   ],
   "source": [
    "a = [1, 2, 3, 4]\n",
    "print(\"Python List: {0}, Type: {1}\".format(a, type(a))) # 파이썬 리스트 생성\n",
    "print(\"Python List Item: {0}, Type: {1}\".format(a[0], type(a[0]))) \n",
    "\n",
    "# 리스트를 넘파이 배열로\n",
    "arr = np.array(a)\n",
    "print(\"Numpy Array: {0}, Type: {1}\".format(arr, type(arr))) \n",
    "print(\"Numpy Array Item: {0}, Type: {1}\".format(arr[0], arr.dtype)) \n",
    "\n",
    "arr2 = np.array([1, 3, \"Hi\", 3.14])\n",
    "print(\"Numpy Array: {0}, Type: {1}\".format(arr2, type(arr2))) \n",
    "print(\"Numpy Array Item: {0}, Type: {1}\".format(arr2[0], arr2.dtype)) "
   ]
  },
  {
   "cell_type": "code",
   "execution_count": 38,
   "metadata": {},
   "outputs": [
    {
     "name": "stdout",
     "output_type": "stream",
     "text": [
      "1차원의 array\n",
      "차원의 개수와 원소의 개수: (15,)\n"
     ]
    },
    {
     "data": {
      "text/plain": [
       "array([[ 1,  2,  3,  4,  5],\n",
       "       [ 6,  7,  8,  9, 10],\n",
       "       [11, 12, 13, 14, 15]])"
      ]
     },
     "execution_count": 38,
     "metadata": {},
     "output_type": "execute_result"
    }
   ],
   "source": [
    "a = [1, 2, 3, 4, 5, 6, 7, 8, 9, 10, 11, 12, 13, 14, 15]\n",
    "arr = np.array(a)\n",
    "print(\"{0}차원의 array\".format(arr.ndim))\n",
    "print(\"차원의 개수와 원소의 개수: {0}\".format(arr.shape))\n",
    "\n",
    "arr.shape = 3, 5\n",
    "arr"
   ]
  },
  {
   "cell_type": "code",
   "execution_count": 61,
   "metadata": {},
   "outputs": [
    {
     "name": "stdout",
     "output_type": "stream",
     "text": [
      "(4, 3)\n",
      "\n",
      "arr[0, 0] = 1 arr[0, 1] = 2 arr[0, 2] = 3 \n",
      "arr[1, 0] = 4 arr[1, 1] = 5 arr[1, 2] = 6 \n",
      "arr[2, 0] = 7 arr[2, 1] = 8 arr[2, 2] = 9 \n",
      "arr[3, 0] = 10 arr[3, 1] = 11 arr[3, 2] = 12 "
     ]
    }
   ],
   "source": [
    "arr = np.array([[1, 2, 3], [4, 5, 6], [7, 8, 9], [10, 11, 12]])\n",
    "\n",
    "# 적절한 코드를 이용하여 다음과 같이 출력하도록 작성\n",
    "\n",
    "print(arr.shape)\n",
    "\n",
    "for n in range(arr.shape[0]) :\n",
    "    print(\"\")\n",
    "    for m in range(arr.shape[1]) :\n",
    "        print(\"arr[{0}, {1}] = {2}\".format(n, m, arr[n, m]), end = \" \")"
   ]
  },
  {
   "cell_type": "code",
   "execution_count": 85,
   "metadata": {},
   "outputs": [
    {
     "name": "stdout",
     "output_type": "stream",
     "text": [
      "float64\n",
      "int32\n",
      "float64\n",
      "float64\n",
      "int32\n",
      "[1 1 3 4 5]\n"
     ]
    }
   ],
   "source": [
    "arr = np.array([1, 2, 3, 4, 5], dtype=np.float64)\n",
    "print(arr.dtype)\n",
    "\n",
    "arr = np.array([1, 2, 3, 4, 5])\n",
    "print(arr.dtype)\n",
    "\n",
    "arr = arr.astype(np.float64)\n",
    "print(arr.dtype)\n",
    "\n",
    "\n",
    "arr = np.array([1, 1.7, 3, 4.3, 5.6])\n",
    "print(arr.dtype)\n",
    "\n",
    "arr = arr.astype(np.int32) # 실수 -> 정수 변환시 소숫점은 버림\n",
    "print(arr.dtype)\n",
    "print(arr)"
   ]
  },
  {
   "cell_type": "code",
   "execution_count": 89,
   "metadata": {},
   "outputs": [
    {
     "name": "stdout",
     "output_type": "stream",
     "text": [
      "[[0. 0. 0. 0.]\n",
      " [0. 0. 0. 0.]\n",
      " [0. 0. 0. 0.]]\n"
     ]
    }
   ],
   "source": [
    "arr = np.zeros((3, 4))\n",
    "print(arr)"
   ]
  },
  {
   "cell_type": "code",
   "execution_count": 104,
   "metadata": {},
   "outputs": [
    {
     "data": {
      "text/plain": [
       "array([0. , 0.3, 0.6, 0.9, 1.2, 1.5, 1.8, 2.1, 2.4, 2.7, 3. , 3.3, 3.6,\n",
       "       3.9, 4.2, 4.5, 4.8])"
      ]
     },
     "execution_count": 104,
     "metadata": {},
     "output_type": "execute_result"
    }
   ],
   "source": [
    "# ndarray의 자주 사용되는 생성함수\n",
    "arr = np.arange(0, 5, 0.3) # 시작, 끝, 간격\n",
    "arr"
   ]
  },
  {
   "cell_type": "code",
   "execution_count": 111,
   "metadata": {},
   "outputs": [
    {
     "data": {
      "text/plain": [
       "array([ 0. ,  2.5,  5. ,  7.5, 10. ])"
      ]
     },
     "execution_count": 111,
     "metadata": {},
     "output_type": "execute_result"
    }
   ],
   "source": [
    "# 주어진 범위를 지정한 샘플의 개수로 나누어 정해지는 간격으로 연속적인 배열 생성\n",
    "# 간격: (끝-시작) / (샘플개수 -1)\n",
    "arr = np.linspace(0, 10, 5)\n",
    "arr"
   ]
  },
  {
   "cell_type": "code",
   "execution_count": 124,
   "metadata": {},
   "outputs": [
    {
     "name": "stdout",
     "output_type": "stream",
     "text": [
      "데이터가 같다!\n",
      "다르다!\n"
     ]
    }
   ],
   "source": [
    "arr = np.arange(12)\n",
    "#arr.shape = 2,6\n",
    "arr\n",
    "\n",
    "arr1 = arr.reshape(4, 3)\n",
    "arr1\n",
    "\n",
    "arr[0] = 100 # arr과 베이스가 같음 (View)\n",
    "arr1\n",
    "\n",
    "if arr1.base is arr:\n",
    "    print(\"데이터가 같다!\")\n",
    "    \n",
    "# 데이터를 공유하지 않고 쉐입을 바꾸기\n",
    "arr = np.arange(12)\n",
    "arr1 = arr.reshape(4, 3).copy()\n",
    "\n",
    "arr[0] = 100\n",
    "arr1\n",
    "\n",
    "if arr1.base is arr:\n",
    "    print(\"데이터가 같다!\")\n",
    "else :\n",
    "    print(\"다르다!\")"
   ]
  },
  {
   "cell_type": "code",
   "execution_count": 135,
   "metadata": {},
   "outputs": [],
   "source": [
    "# 기타 shape 조절 방법\n",
    "arr = np.arange(0, 12, 1)\n",
    "arr1 = arr.reshape(3, -1) # 무조건 3행, 열은 남은것 모두\n",
    "arr1 = arr.reshape(-1, 2)\n",
    "arr1\n",
    "\n",
    "arr = np.arange(0, 100, 1).reshape(5, -1).copy()\n",
    "arr = arr.ravel() # 모든 내용 1차원 배열로"
   ]
  },
  {
   "cell_type": "code",
   "execution_count": 147,
   "metadata": {},
   "outputs": [
    {
     "data": {
      "text/plain": [
       "array([[  1,   2,   3,  11,  22,  33,  44,  55],\n",
       "       [  4,   5,   6,  66,  77,  88,  99, 100]])"
      ]
     },
     "execution_count": 147,
     "metadata": {},
     "output_type": "execute_result"
    }
   ],
   "source": [
    "arr1 = np.array([[1, 2, 3], [4, 5, 6]]) # 2 * 2\n",
    "arr2 = np.array([[11, 22, 33], [44, 55, 66], [77, 88, 99]]) # 3 * 3\n",
    "arr3 = np.vstack((arr1, arr2))\n",
    "arr4 = np.array([[11, 22, 33, 44, 55], [66, 77, 88, 99, 100]])\n",
    "arr5 = np.hstack((arr1, arr4))\n",
    "\n",
    "arr5"
   ]
  },
  {
   "cell_type": "code",
   "execution_count": 157,
   "metadata": {},
   "outputs": [
    {
     "name": "stdout",
     "output_type": "stream",
     "text": [
      "index: 0, data: 10\n",
      "index: 1, data: 11\n",
      "index: 2, data: 12\n",
      "index: 3, data: 13\n",
      "index: 4, data: 14\n",
      "index: 5, data: 15\n",
      "index: 6, data: 16\n",
      "index: 7, data: 17\n",
      "index: 8, data: 18\n",
      "index: 9, data: 19\n"
     ]
    }
   ],
   "source": [
    "arr = np.arange(10, 20, 1)\n",
    "\n",
    "for idx,data in enumerate(arr) :\n",
    "    print(\"index: {0}, data: {1}\".format(idx, data))"
   ]
  },
  {
   "cell_type": "code",
   "execution_count": 168,
   "metadata": {},
   "outputs": [
    {
     "data": {
      "text/plain": [
       "array([1000,    1])"
      ]
     },
     "execution_count": 168,
     "metadata": {},
     "output_type": "execute_result"
    }
   ],
   "source": [
    "arr = np.arange(0, 5, 1)\n",
    "arr1 = arr[0:2]\n",
    "arr[-1:]\n",
    "arr[0:2]\n",
    "\n",
    "arr[0] = 1000\n",
    "arr1 # Numpy 의 Slicing은 View다"
   ]
  },
  {
   "cell_type": "code",
   "execution_count": 174,
   "metadata": {},
   "outputs": [
    {
     "data": {
      "text/plain": [
       "array([ 3,  6,  9, 12])"
      ]
     },
     "execution_count": 174,
     "metadata": {},
     "output_type": "execute_result"
    }
   ],
   "source": [
    "# Numpy Array의 연산\n",
    "arr1 = np.array([1, 2, 3, 4])\n",
    "arr2 = np.array([5, 6, 7, 8])\n",
    "\n",
    "arr1 + arr2\n",
    "arr1 * 3"
   ]
  },
  {
   "cell_type": "code",
   "execution_count": 193,
   "metadata": {},
   "outputs": [
    {
     "name": "stdout",
     "output_type": "stream",
     "text": [
      "[[1.00000000e+00 1.00000000e+00 4.00000000e+00 9.64982703e+08]\n",
      " [1.00000000e+00 3.00000000e+00 4.00000000e+00 9.64981247e+08]\n",
      " [1.00000000e+00 6.00000000e+00 4.00000000e+00 9.64982224e+08]\n",
      " [1.00000000e+00 4.70000000e+01 5.00000000e+00 9.64983815e+08]\n",
      " [1.00000000e+00 5.00000000e+01 5.00000000e+00 9.64982931e+08]]\n"
     ]
    }
   ],
   "source": [
    "# MovieLens Dataset\n",
    "# Group Lens라는 미네소타 대학의 컴퓨터학과 연구실에서 수집한 영화 데이터\n",
    "# 특정 영화에 대한 선호를 1~5사이의 실수로 높은 점수 일수록 선호도 높음\n",
    "\n",
    "import numpy as np\n",
    "\n",
    "data = np.loadtxt(\"data/movie/ratings.csv\", delimiter=\",\", dtype=np.float64)\n",
    "data.shape\n",
    "\n",
    "print(data[:5, :])"
   ]
  },
  {
   "cell_type": "code",
   "execution_count": 216,
   "metadata": {},
   "outputs": [
    {
     "data": {
      "text/plain": [
       "3.501556983616962"
      ]
     },
     "execution_count": 216,
     "metadata": {},
     "output_type": "execute_result"
    }
   ],
   "source": [
    "# 모든영화의 전체 평균 평점\n",
    "data[:,2].mean()"
   ]
  },
  {
   "cell_type": "code",
   "execution_count": 224,
   "metadata": {},
   "outputs": [
    {
     "data": {
      "text/plain": [
       "array([[  1.        ,   4.36637931],\n",
       "       [  2.        ,   3.94827586],\n",
       "       [  3.        ,   2.43589744],\n",
       "       ...,\n",
       "       [608.        ,   3.13417569],\n",
       "       [609.        ,   3.27027027],\n",
       "       [610.        ,   3.68855607]])"
      ]
     },
     "execution_count": 224,
     "metadata": {},
     "output_type": "execute_result"
    }
   ],
   "source": [
    "# 각 사용자별 평균 평점\n",
    "user_ids = np.unique(data[:, 0])\n",
    "user_ids.shape # 회원 수\n",
    "\n",
    "\n",
    "result = []\n",
    "for user_id in user_ids:\n",
    "    data_for_user = data[data[:, 0] == user_id, :]\n",
    "    mean_rating_for_user = data_for_user[:, 2].mean()\n",
    "    result.append([user_id, mean_rating_for_user])\n",
    "    \n",
    "result = np.array(result)\n",
    "result"
   ]
  },
  {
   "cell_type": "code",
   "execution_count": 5,
   "metadata": {},
   "outputs": [
    {
     "ename": "IndexError",
     "evalue": "too many indices for array",
     "output_type": "error",
     "traceback": [
      "\u001b[1;31m---------------------------------------------------------------------------\u001b[0m",
      "\u001b[1;31mIndexError\u001b[0m                                Traceback (most recent call last)",
      "\u001b[1;32m<ipython-input-5-010be103b00c>\u001b[0m in \u001b[0;36m<module>\u001b[1;34m()\u001b[0m\n\u001b[0;32m      5\u001b[0m \u001b[1;33m\u001b[0m\u001b[0m\n\u001b[0;32m      6\u001b[0m \u001b[0marr\u001b[0m\u001b[1;33m[\u001b[0m\u001b[1;33m-\u001b[0m\u001b[1;36m3\u001b[0m\u001b[1;33m:\u001b[0m\u001b[1;33m]\u001b[0m \u001b[1;33m=\u001b[0m \u001b[1;36m50\u001b[0m\u001b[1;33m\u001b[0m\u001b[0m\n\u001b[1;32m----> 7\u001b[1;33m \u001b[0marr\u001b[0m\u001b[1;33m[\u001b[0m\u001b[1;33m:\u001b[0m\u001b[1;33m,\u001b[0m \u001b[1;36m1\u001b[0m\u001b[1;33m]\u001b[0m\u001b[1;33m.\u001b[0m\u001b[0msum\u001b[0m\u001b[1;33m(\u001b[0m\u001b[1;33m)\u001b[0m\u001b[1;33m\u001b[0m\u001b[0m\n\u001b[0m",
      "\u001b[1;31mIndexError\u001b[0m: too many indices for array"
     ]
    }
   ],
   "source": [
    "import numpy as np\n",
    "# 평균 평점이 가장 높은 영화의 제목을 출력하세요!\n",
    "arr = np.arange(10, 22, 2)\n",
    "arr[2]\n",
    "\n",
    "arr[-3:] = 50\n",
    "arr[:, 1].sum()"
   ]
  }
 ],
 "metadata": {
  "kernelspec": {
   "display_name": "Python [conda env:tensorflow_env]",
   "language": "python",
   "name": "conda-env-tensorflow_env-py"
  },
  "language_info": {
   "codemirror_mode": {
    "name": "ipython",
    "version": 3
   },
   "file_extension": ".py",
   "mimetype": "text/x-python",
   "name": "python",
   "nbconvert_exporter": "python",
   "pygments_lexer": "ipython3",
   "version": "3.5.6"
  }
 },
 "nbformat": 4,
 "nbformat_minor": 2
}
