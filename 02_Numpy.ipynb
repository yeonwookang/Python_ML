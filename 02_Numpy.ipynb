{
 "cells": [
  {
   "cell_type": "code",
   "execution_count": 2,
   "metadata": {},
   "outputs": [],
   "source": [
    "# numpy에서는 ndarray\n",
    "# n-dimension array\n",
    "\n",
    "#ndarray: n-dimension array\n",
    "#Python의 List와 대동소이, 대신 ndarray는 같은 데이터 타입만 사용 가능\n",
    "#List보다 메모리도 적게 사용하며 속도도 빠름\n",
    "\n",
    "import numpy as np"
   ]
  },
  {
   "cell_type": "code",
   "execution_count": 19,
   "metadata": {},
   "outputs": [
    {
     "name": "stdout",
     "output_type": "stream",
     "text": [
      "Python List: [1, 2, 3, 4], Type: <class 'list'>\n",
      "Python List Item: 1, Type: <class 'int'>\n",
      "Numpy Array: [1 2 3 4], Type: <class 'numpy.ndarray'>\n",
      "Numpy Array Item: 1, Type: int32\n",
      "Numpy Array: ['1' '3' 'Hi' '3.14'], Type: <class 'numpy.ndarray'>\n",
      "Numpy Array Item: 1, Type: <U1\n"
     ]
    }
   ],
   "source": [
    "a = [1, 2, 3, 4]\n",
    "print(\"Python List: {0}, Type: {1}\".format(a, type(a))) # 파이썬 리스트 생성\n",
    "print(\"Python List Item: {0}, Type: {1}\".format(a[0], type(a[0]))) \n",
    "\n",
    "# 리스트를 넘파이 배열로\n",
    "arr = np.array(a)\n",
    "print(\"Numpy Array: {0}, Type: {1}\".format(arr, type(arr))) \n",
    "print(\"Numpy Array Item: {0}, Type: {1}\".format(arr[0], arr[0].dtype)) \n",
    "\n",
    "arr2 = np.array([1, 3, \"Hi\", 3.14])\n",
    "print(\"Numpy Array: {0}, Type: {1}\".format(arr2, type(arr2))) \n",
    "print(\"Numpy Array Item: {0}, Type: {1}\".format(arr2[0], arr2[0].dtype)) "
   ]
  },
  {
   "cell_type": "code",
   "execution_count": 24,
   "metadata": {},
   "outputs": [
    {
     "name": "stdout",
     "output_type": "stream",
     "text": [
      "3차원의 array\n",
      "차원의 개수와 원소의 개수: (1, 2, 4)\n"
     ]
    }
   ],
   "source": [
    "a = [[[1, 2, 3, 4],[5, 6, 7, 8]]]\n",
    "arr = np.array(a)\n",
    "print(\"{0}차원의 array\".format(arr.ndim))\n",
    "print(\"차원의 개수와 원소의 개수: {0}\".format(arr.shape))"
   ]
  }
 ],
 "metadata": {
  "kernelspec": {
   "display_name": "Python [conda env:tensorflow_env]",
   "language": "python",
   "name": "conda-env-tensorflow_env-py"
  },
  "language_info": {
   "codemirror_mode": {
    "name": "ipython",
    "version": 3
   },
   "file_extension": ".py",
   "mimetype": "text/x-python",
   "name": "python",
   "nbconvert_exporter": "python",
   "pygments_lexer": "ipython3",
   "version": "3.5.6"
  }
 },
 "nbformat": 4,
 "nbformat_minor": 2
}
